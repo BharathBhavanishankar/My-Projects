{
 "cells": [
  {
   "cell_type": "markdown",
   "id": "52eee3d4",
   "metadata": {},
   "source": [
    "# Data Cleansing"
   ]
  },
  {
   "cell_type": "code",
   "execution_count": 1,
   "id": "14f3ff6d",
   "metadata": {},
   "outputs": [],
   "source": [
    "import pandas as pd"
   ]
  },
  {
   "cell_type": "code",
   "execution_count": 2,
   "id": "89c358e4",
   "metadata": {},
   "outputs": [],
   "source": [
    "# importing csv"
   ]
  },
  {
   "cell_type": "code",
   "execution_count": 45,
   "id": "093925bb",
   "metadata": {},
   "outputs": [],
   "source": [
    "df = pd.read_csv('C:\\\\UDEMY\\\\BUSINESS INTELLIGENCE ENGINEER\\\\Projects\\\\Data cleansing\\\\GBvideos-d.csv',encoding='latin1')"
   ]
  },
  {
   "cell_type": "code",
   "execution_count": null,
   "id": "26c582a7",
   "metadata": {},
   "outputs": [],
   "source": [
    "df.info()"
   ]
  },
  {
   "cell_type": "code",
   "execution_count": null,
   "id": "d35dea79",
   "metadata": {},
   "outputs": [],
   "source": [
    "df.drop(df.index[5001:], axis=0, inplace=True)"
   ]
  },
  {
   "cell_type": "code",
   "execution_count": null,
   "id": "730e7159",
   "metadata": {},
   "outputs": [],
   "source": [
    "df.head()"
   ]
  },
  {
   "cell_type": "code",
   "execution_count": null,
   "id": "7a4c0cfa",
   "metadata": {},
   "outputs": [],
   "source": [
    "# extracting unique values in the column category_id to create a column runtime and map it with category id"
   ]
  },
  {
   "cell_type": "code",
   "execution_count": null,
   "id": "268bfe27",
   "metadata": {},
   "outputs": [],
   "source": [
    "df['category_id'].unique()"
   ]
  },
  {
   "cell_type": "code",
   "execution_count": null,
   "id": "ce0a7df9",
   "metadata": {},
   "outputs": [],
   "source": [
    "runtime_dict = {10:7.2, 23:12.8, 24:9.3, 25:5.2, 22:17.3, 26:16.6,  1:4.4, 28:21.4, 20:11.3, 17:4.6, 29:3, 15:6.6, 19:10.9,  2:15, 27:12.96, 43:21.1, 30:30.8, 29:13.7, 44:21.2}"
   ]
  },
  {
   "cell_type": "code",
   "execution_count": null,
   "id": "140d7c99",
   "metadata": {},
   "outputs": [],
   "source": [
    "df.insert(loc=4, column='runtime', value=df['category_id'].map(runtime_dict))"
   ]
  },
  {
   "cell_type": "code",
   "execution_count": null,
   "id": "75da3fe2",
   "metadata": {},
   "outputs": [],
   "source": [
    "df.insert(loc=0, column='country_name', value='Great Britain')"
   ]
  },
  {
   "cell_type": "code",
   "execution_count": null,
   "id": "5a4d254c",
   "metadata": {},
   "outputs": [],
   "source": [
    "df.info()"
   ]
  },
  {
   "cell_type": "code",
   "execution_count": null,
   "id": "da9f7563",
   "metadata": {},
   "outputs": [],
   "source": [
    "# Creating the number of Accounts using youtube in GB on the basis of playback time, considering avg time spent per\n",
    "# day by an account is 3.5hrs"
   ]
  },
  {
   "cell_type": "code",
   "execution_count": null,
   "id": "5580a653",
   "metadata": {},
   "outputs": [],
   "source": [
    "sum(df['playback_time'])"
   ]
  },
  {
   "cell_type": "code",
   "execution_count": null,
   "id": "1912e39d",
   "metadata": {},
   "outputs": [],
   "source": [
    "# dividing total playback min by 24 to get per month playback min and then by 4 to get per week playback time"
   ]
  },
  {
   "cell_type": "code",
   "execution_count": null,
   "id": "d0ef618b",
   "metadata": {},
   "outputs": [],
   "source": [
    "((76553964117.95522/474665)/24)/4"
   ]
  },
  {
   "cell_type": "code",
   "execution_count": null,
   "id": "880d2843",
   "metadata": {},
   "outputs": [],
   "source": [
    "df.insert(loc = 0, column='total_account_number', value=474665)"
   ]
  },
  {
   "cell_type": "code",
   "execution_count": null,
   "id": "9386fb8e",
   "metadata": {},
   "outputs": [],
   "source": [
    "df.drop('Account No', axis=1, inplace=True)"
   ]
  },
  {
   "cell_type": "code",
   "execution_count": null,
   "id": "409214f8",
   "metadata": {},
   "outputs": [],
   "source": [
    "# Assuming that the videos with views greater than 10000000 has 35% views watches 70% of the total video length\n",
    "# Remaining 65% views would have watched full length\n",
    "# Rest of the Videos is 45% of the total views watches 55% of the video and rest of the watches full video"
   ]
  },
  {
   "cell_type": "code",
   "execution_count": null,
   "id": "eeae2d3c",
   "metadata": {},
   "outputs": [],
   "source": [
    "def calculate(row):\n",
    "  if row['views'] > 10000000:\n",
    "    part1 = (0.35 * row['views']) * (0.7 * row['runtime'])\n",
    "    part2 = (0.65 * row['views']) * row['runtime']\n",
    "    return part1 + part2\n",
    "  else:\n",
    "    part3 = (0.45 * row['views']) * (0.55 * row['runtime'])\n",
    "    part4 = (0.55 * row['views']) * row['runtime']\n",
    "    return part3 + part4"
   ]
  },
  {
   "cell_type": "code",
   "execution_count": null,
   "id": "a9887824",
   "metadata": {},
   "outputs": [],
   "source": [
    "df.insert(loc = 6, column= 'playback_time', value= df.apply(calculate, axis=1))"
   ]
  },
  {
   "cell_type": "code",
   "execution_count": null,
   "id": "5ae56fb6",
   "metadata": {},
   "outputs": [],
   "source": [
    "df.drop('Playback Time', axis=1, inplace = True)"
   ]
  },
  {
   "cell_type": "code",
   "execution_count": null,
   "id": "73692668",
   "metadata": {},
   "outputs": [],
   "source": [
    "df.drop(df.columns[2], axis=1, inplace=True)"
   ]
  },
  {
   "cell_type": "code",
   "execution_count": null,
   "id": "a64d9f5e",
   "metadata": {},
   "outputs": [],
   "source": [
    "df.head()"
   ]
  },
  {
   "cell_type": "code",
   "execution_count": null,
   "id": "553c2e8f",
   "metadata": {},
   "outputs": [],
   "source": [
    "# replacing unique trending_date as the dates having months greater than 12"
   ]
  },
  {
   "cell_type": "code",
   "execution_count": null,
   "id": "532ff12b",
   "metadata": {},
   "outputs": [],
   "source": [
    "u_date = df['trending_date'].unique()\n",
    "u_date"
   ]
  },
  {
   "cell_type": "code",
   "execution_count": null,
   "id": "57ada7a8",
   "metadata": {},
   "outputs": [],
   "source": [
    "n_date = ['17.01.11', '17.02.11', '17.03.11', '17.04.11', '17.05.11', '17.06.11',\n",
    " '17.07.11', '17.08.11', '17.09.11', '17.10.11', '17.11.11', '17.12.11',\n",
    " '21.04.11', '21.04.12', '17.12.12', '17.11.12', '17.10.12', '17.01.12',\n",
    " '17.02.12', '17.03.12', '17.04.12', '17.05.12', '17.06.12', '17.07.12',\n",
    " '17.08.12', '17.09.12']"
   ]
  },
  {
   "cell_type": "code",
   "execution_count": null,
   "id": "c6e7026d",
   "metadata": {},
   "outputs": [],
   "source": [
    "df['trending_date'].replace(u_date,n_date,inplace=True)"
   ]
  },
  {
   "cell_type": "code",
   "execution_count": null,
   "id": "776920d0",
   "metadata": {},
   "outputs": [],
   "source": [
    "df.head()"
   ]
  },
  {
   "cell_type": "code",
   "execution_count": null,
   "id": "4b4a8b58",
   "metadata": {},
   "outputs": [],
   "source": [
    "df['trending_date'].unique()"
   ]
  },
  {
   "cell_type": "code",
   "execution_count": null,
   "id": "4db70dd9",
   "metadata": {},
   "outputs": [],
   "source": [
    "# checking for any null value in a column"
   ]
  },
  {
   "cell_type": "code",
   "execution_count": null,
   "id": "41b06092",
   "metadata": {},
   "outputs": [],
   "source": [
    "df.isnull().any()"
   ]
  },
  {
   "cell_type": "code",
   "execution_count": null,
   "id": "a7397af1",
   "metadata": {},
   "outputs": [],
   "source": [
    "# filtering null values in column 'description'"
   ]
  },
  {
   "cell_type": "code",
   "execution_count": null,
   "id": "45c5848e",
   "metadata": {},
   "outputs": [],
   "source": [
    "df[df['description'].isnull()]"
   ]
  },
  {
   "cell_type": "code",
   "execution_count": null,
   "id": "f8752ad7",
   "metadata": {},
   "outputs": [],
   "source": [
    "df.info()"
   ]
  },
  {
   "cell_type": "code",
   "execution_count": null,
   "id": "44465d7b",
   "metadata": {},
   "outputs": [],
   "source": [
    "# replacing null values as object data type"
   ]
  },
  {
   "cell_type": "code",
   "execution_count": null,
   "id": "2d05f3ab",
   "metadata": {},
   "outputs": [],
   "source": [
    "df['description'].fillna('not available', inplace=True)"
   ]
  },
  {
   "cell_type": "code",
   "execution_count": null,
   "id": "e7dd3b63",
   "metadata": {},
   "outputs": [],
   "source": [
    "df['description'].isnull().any()"
   ]
  },
  {
   "cell_type": "code",
   "execution_count": null,
   "id": "4dff873d",
   "metadata": {},
   "outputs": [],
   "source": [
    "df.head()"
   ]
  },
  {
   "cell_type": "code",
   "execution_count": null,
   "id": "e834be47",
   "metadata": {},
   "outputs": [],
   "source": [
    "df.info()"
   ]
  },
  {
   "cell_type": "code",
   "execution_count": null,
   "id": "8c80f913",
   "metadata": {},
   "outputs": [],
   "source": [
    "#checking any discrepancies in data type of a specific column"
   ]
  },
  {
   "cell_type": "code",
   "execution_count": null,
   "id": "0d84fae3",
   "metadata": {},
   "outputs": [],
   "source": [
    "runtime_type = df['runtime'].apply(type)"
   ]
  },
  {
   "cell_type": "code",
   "execution_count": null,
   "id": "d1b60290",
   "metadata": {},
   "outputs": [],
   "source": [
    "runtime_type.unique()"
   ]
  },
  {
   "cell_type": "code",
   "execution_count": null,
   "id": "23d01d89",
   "metadata": {},
   "outputs": [],
   "source": [
    "playback_type = df['playback_time'].apply(type)"
   ]
  },
  {
   "cell_type": "code",
   "execution_count": null,
   "id": "d529b0bf",
   "metadata": {},
   "outputs": [],
   "source": [
    "playback_type.unique()"
   ]
  },
  {
   "cell_type": "code",
   "execution_count": null,
   "id": "c85886d8",
   "metadata": {},
   "outputs": [],
   "source": [
    "like_type = df['likes'].apply(type)"
   ]
  },
  {
   "cell_type": "code",
   "execution_count": null,
   "id": "2a1f02b2",
   "metadata": {},
   "outputs": [],
   "source": [
    "like_type.unique()"
   ]
  },
  {
   "cell_type": "code",
   "execution_count": null,
   "id": "73610b70",
   "metadata": {},
   "outputs": [],
   "source": [
    "dislike_type = df['dislikes'].apply(type)"
   ]
  },
  {
   "cell_type": "code",
   "execution_count": null,
   "id": "30374f88",
   "metadata": {},
   "outputs": [],
   "source": [
    "dislike_type.unique()"
   ]
  },
  {
   "cell_type": "code",
   "execution_count": null,
   "id": "e9659abb",
   "metadata": {},
   "outputs": [],
   "source": [
    "view_type = df['views'].apply(type)"
   ]
  },
  {
   "cell_type": "code",
   "execution_count": null,
   "id": "d1a3c9f9",
   "metadata": {},
   "outputs": [],
   "source": [
    "view_type.unique()"
   ]
  },
  {
   "cell_type": "code",
   "execution_count": null,
   "id": "f8d31a48",
   "metadata": {},
   "outputs": [],
   "source": [
    "# Renaming Column Names"
   ]
  },
  {
   "cell_type": "code",
   "execution_count": null,
   "id": "e8521e60",
   "metadata": {},
   "outputs": [],
   "source": [
    "df.rename(columns= {'country_name':'Country', 'total_account_number':'Account No', 'video_id':'Video ID', 'trending_date':'Trending Date','title':'Title','runtime':'AVG Runtime','playback_time':'Playback Time','channel_title':'Channel Name','category_id':'Category','publish_time':'Publish Time','tags':'Tags','views':'Views','likes':'Likes','dislikes':'Dislikes','comment_count':'Comment Counts','thumbnail_link':'Thumbnail','comments_disabled':'Comments Disabled','ratings_disabled':'Ratings Disabled','description':'Description'},inplace=True)"
   ]
  },
  {
   "cell_type": "code",
   "execution_count": null,
   "id": "3940207e",
   "metadata": {},
   "outputs": [],
   "source": [
    "df.info()"
   ]
  },
  {
   "cell_type": "code",
   "execution_count": null,
   "id": "62f5f31b",
   "metadata": {},
   "outputs": [],
   "source": [
    "a = df['video_error_or_removed'].value_counts()[False]"
   ]
  },
  {
   "cell_type": "code",
   "execution_count": null,
   "id": "66a71fec",
   "metadata": {},
   "outputs": [],
   "source": [
    "df.head()"
   ]
  },
  {
   "cell_type": "code",
   "execution_count": null,
   "id": "b6ac6258",
   "metadata": {},
   "outputs": [],
   "source": [
    "# changing data type for the column Playback Time to int"
   ]
  },
  {
   "cell_type": "code",
   "execution_count": null,
   "id": "1c798e14",
   "metadata": {},
   "outputs": [],
   "source": [
    "df['Playback Time'] = df['Playback Time'].astype(int)"
   ]
  },
  {
   "cell_type": "code",
   "execution_count": null,
   "id": "2c61ecf0",
   "metadata": {},
   "outputs": [],
   "source": [
    "df.head()"
   ]
  },
  {
   "cell_type": "code",
   "execution_count": null,
   "id": "952fce8c",
   "metadata": {},
   "outputs": [],
   "source": [
    "df.to_csv('GBcleansed.csv')"
   ]
  },
  {
   "cell_type": "code",
   "execution_count": null,
   "id": "6a116ec4",
   "metadata": {},
   "outputs": [],
   "source": [
    "# Concatenating all cleaned sheets"
   ]
  },
  {
   "cell_type": "code",
   "execution_count": null,
   "id": "5432d56a",
   "metadata": {},
   "outputs": [],
   "source": [
    "US_sheet = pd.read_csv('C:\\\\UDEMY\\\\BUSINESS INTELLIGENCE ENGINEER\\\\Projects\\\\Data cleansing\\\\cleansed data\\\\UScleansed.csv', encoding='latin1')\n",
    "RU_sheet = pd.read_csv('C:\\\\UDEMY\\\\BUSINESS INTELLIGENCE ENGINEER\\\\Projects\\\\Data cleansing\\\\cleansed data\\\\RUcleansed.csv', encoding='latin1')\n",
    "MX_sheet = pd.read_csv('C:\\\\UDEMY\\\\BUSINESS INTELLIGENCE ENGINEER\\\\Projects\\\\Data cleansing\\\\cleansed data\\\\MXcleansed.csv', encoding='latin1')\n",
    "JP_sheet = pd.read_csv('C:\\\\UDEMY\\\\BUSINESS INTELLIGENCE ENGINEER\\\\Projects\\\\Data cleansing\\\\cleansed data\\\\JPcleansed.csv', encoding='latin1')\n",
    "IN_sheet = pd.read_csv('C:\\\\UDEMY\\\\BUSINESS INTELLIGENCE ENGINEER\\\\Projects\\\\Data cleansing\\\\cleansed data\\\\INcleansed.csv', encoding='latin1')\n",
    "GB_sheet = pd.read_csv('C:\\\\UDEMY\\\\BUSINESS INTELLIGENCE ENGINEER\\\\Projects\\\\Data cleansing\\\\cleansed data\\\\GBcleansed.csv', encoding='latin1')\n",
    "DE_sheet = pd.read_csv('C:\\\\UDEMY\\\\BUSINESS INTELLIGENCE ENGINEER\\\\Projects\\\\Data cleansing\\\\cleansed data\\\\DEcleansed.csv', encoding='latin1')\n",
    "CA_sheet = pd.read_csv('C:\\\\UDEMY\\\\BUSINESS INTELLIGENCE ENGINEER\\\\Projects\\\\Data cleansing\\\\cleansed data\\\\CAcleansed.csv', encoding='latin1')"
   ]
  },
  {
   "cell_type": "code",
   "execution_count": null,
   "id": "f44c1154",
   "metadata": {},
   "outputs": [],
   "source": [
    "video_analysis_consol = pd.concat([US_sheet, RU_sheet, MX_sheet, JP_sheet, IN_sheet, GB_sheet, DE_sheet, CA_sheet])"
   ]
  },
  {
   "cell_type": "code",
   "execution_count": null,
   "id": "ac0279b7",
   "metadata": {},
   "outputs": [],
   "source": [
    "video_analysis_consol"
   ]
  },
  {
   "cell_type": "code",
   "execution_count": null,
   "id": "5344a7c0",
   "metadata": {},
   "outputs": [],
   "source": [
    "video_analysis_consol.info()"
   ]
  },
  {
   "cell_type": "code",
   "execution_count": null,
   "id": "86b41769",
   "metadata": {},
   "outputs": [],
   "source": [
    "# dropping index column"
   ]
  },
  {
   "cell_type": "code",
   "execution_count": null,
   "id": "71e34c62",
   "metadata": {},
   "outputs": [],
   "source": [
    "video_analysis_consol.drop(columns = video_analysis_consol.columns[0], axis = 1, inplace=True)"
   ]
  },
  {
   "cell_type": "code",
   "execution_count": null,
   "id": "e791c959",
   "metadata": {},
   "outputs": [],
   "source": [
    "video_analysis_consol.info()"
   ]
  },
  {
   "cell_type": "code",
   "execution_count": null,
   "id": "1ba52914",
   "metadata": {},
   "outputs": [],
   "source": [
    "# looking for any null values"
   ]
  },
  {
   "cell_type": "code",
   "execution_count": null,
   "id": "6f98c49e",
   "metadata": {},
   "outputs": [],
   "source": [
    "video_analysis_consol.isnull().any()"
   ]
  },
  {
   "cell_type": "code",
   "execution_count": null,
   "id": "9fb4fbfb",
   "metadata": {},
   "outputs": [],
   "source": [
    "video_analysis_consol.isnull().sum().sum()          # finding total null values in the table"
   ]
  },
  {
   "cell_type": "code",
   "execution_count": null,
   "id": "0f886fde",
   "metadata": {},
   "outputs": [],
   "source": [
    "video_analysis_consol[video_analysis_consol['Country'].isnull()]"
   ]
  },
  {
   "cell_type": "code",
   "execution_count": null,
   "id": "76ac6836",
   "metadata": {},
   "outputs": [],
   "source": [
    "video_analysis_consol.dropna(subset='Country', inplace=True)"
   ]
  },
  {
   "cell_type": "code",
   "execution_count": null,
   "id": "12e9cf6f",
   "metadata": {},
   "outputs": [],
   "source": [
    "video_analysis_consol.isnull().any()"
   ]
  },
  {
   "cell_type": "code",
   "execution_count": null,
   "id": "02fc005d",
   "metadata": {},
   "outputs": [],
   "source": [
    "video_analysis_consol.info()"
   ]
  },
  {
   "cell_type": "code",
   "execution_count": null,
   "id": "2efe0d40",
   "metadata": {},
   "outputs": [],
   "source": [
    "# looking for any discrepancy in the data type of a column"
   ]
  },
  {
   "cell_type": "code",
   "execution_count": null,
   "id": "4721c3b1",
   "metadata": {},
   "outputs": [],
   "source": [
    "d1 = video_analysis_consol['Account No'].apply(type)"
   ]
  },
  {
   "cell_type": "code",
   "execution_count": null,
   "id": "f3905643",
   "metadata": {},
   "outputs": [],
   "source": [
    "d1.unique()"
   ]
  },
  {
   "cell_type": "code",
   "execution_count": null,
   "id": "ebc9a54f",
   "metadata": {},
   "outputs": [],
   "source": [
    "video_analysis_consol['Account No'].unique()"
   ]
  },
  {
   "cell_type": "code",
   "execution_count": null,
   "id": "84278a98",
   "metadata": {},
   "outputs": [],
   "source": [
    "video_analysis_consol['Account No'] = video_analysis_consol['Account No'].astype(int)"
   ]
  },
  {
   "cell_type": "code",
   "execution_count": null,
   "id": "98fac170",
   "metadata": {},
   "outputs": [],
   "source": [
    "video_analysis_consol['Account No'] = video_analysis_consol['Account No'].convert_dtypes(int)"
   ]
  },
  {
   "cell_type": "code",
   "execution_count": null,
   "id": "fad1ce45",
   "metadata": {},
   "outputs": [],
   "source": [
    "video_analysis_consol['Account No'].unique()"
   ]
  },
  {
   "cell_type": "code",
   "execution_count": null,
   "id": "f54fa54b",
   "metadata": {},
   "outputs": [],
   "source": [
    "d2 = video_analysis_consol['Account No'].apply(type)"
   ]
  },
  {
   "cell_type": "code",
   "execution_count": null,
   "id": "1bca270c",
   "metadata": {},
   "outputs": [],
   "source": [
    "d2.unique()"
   ]
  },
  {
   "cell_type": "code",
   "execution_count": null,
   "id": "d907778d",
   "metadata": {},
   "outputs": [],
   "source": [
    "video_analysis_consol.info()"
   ]
  },
  {
   "cell_type": "code",
   "execution_count": null,
   "id": "33e94e43",
   "metadata": {},
   "outputs": [],
   "source": [
    "count_type = video_analysis_consol['Country'].apply(type)"
   ]
  },
  {
   "cell_type": "code",
   "execution_count": null,
   "id": "aa8d7f82",
   "metadata": {},
   "outputs": [],
   "source": [
    "count_type.unique()"
   ]
  },
  {
   "cell_type": "code",
   "execution_count": null,
   "id": "83b95b8c",
   "metadata": {},
   "outputs": [],
   "source": [
    "date_type = video_analysis_consol['Trending Date'].apply(type)"
   ]
  },
  {
   "cell_type": "code",
   "execution_count": null,
   "id": "b8eccc50",
   "metadata": {},
   "outputs": [],
   "source": [
    "date_type.unique()"
   ]
  },
  {
   "cell_type": "code",
   "execution_count": null,
   "id": "a3a08006",
   "metadata": {},
   "outputs": [],
   "source": [
    "video_analysis_consol['Trending Date'].unique()"
   ]
  },
  {
   "cell_type": "code",
   "execution_count": null,
   "id": "54eb57c1",
   "metadata": {},
   "outputs": [],
   "source": [
    "video_analysis_consol['Trending Date'] = pd.to_datetime(video_analysis_consol['Trending Date'], format='%d.%m.%y')"
   ]
  },
  {
   "cell_type": "code",
   "execution_count": null,
   "id": "65a513a6",
   "metadata": {},
   "outputs": [],
   "source": [
    "date_type1 = video_analysis_consol['Trending Date'].apply(type)"
   ]
  },
  {
   "cell_type": "code",
   "execution_count": null,
   "id": "919ae620",
   "metadata": {},
   "outputs": [],
   "source": [
    "date_type1.unique()"
   ]
  },
  {
   "cell_type": "code",
   "execution_count": null,
   "id": "5aed8299",
   "metadata": {},
   "outputs": [],
   "source": [
    "video_analysis_consol.head()"
   ]
  },
  {
   "cell_type": "code",
   "execution_count": null,
   "id": "63829c05",
   "metadata": {},
   "outputs": [],
   "source": [
    "title_type = video_analysis_consol['Title'].apply(type)"
   ]
  },
  {
   "cell_type": "code",
   "execution_count": null,
   "id": "7ebea7c5",
   "metadata": {},
   "outputs": [],
   "source": [
    "title_type.unique()"
   ]
  },
  {
   "cell_type": "code",
   "execution_count": null,
   "id": "f0e70a35",
   "metadata": {},
   "outputs": [],
   "source": [
    "runtime_type = video_analysis_consol['AVG Runtime'].apply(type)"
   ]
  },
  {
   "cell_type": "code",
   "execution_count": null,
   "id": "92bd2638",
   "metadata": {},
   "outputs": [],
   "source": [
    "runtime_type.unique()"
   ]
  },
  {
   "cell_type": "code",
   "execution_count": null,
   "id": "faeb6fad",
   "metadata": {},
   "outputs": [],
   "source": [
    "plbtime_type = video_analysis_consol['Playback Time'].apply(type)"
   ]
  },
  {
   "cell_type": "code",
   "execution_count": null,
   "id": "2b9004da",
   "metadata": {},
   "outputs": [],
   "source": [
    "plbtime_type.unique()"
   ]
  },
  {
   "cell_type": "code",
   "execution_count": null,
   "id": "9655e09f",
   "metadata": {},
   "outputs": [],
   "source": [
    "publ_type = video_analysis_consol['Publish Time'].apply(type)"
   ]
  },
  {
   "cell_type": "code",
   "execution_count": null,
   "id": "e8ae8f1a",
   "metadata": {},
   "outputs": [],
   "source": [
    "publ_type.unique()"
   ]
  },
  {
   "cell_type": "code",
   "execution_count": null,
   "id": "5e6e9d36",
   "metadata": {},
   "outputs": [],
   "source": [
    "video_analysis_consol['Publish Time'] = pd.to_datetime(video_analysis_consol['Publish Time'])"
   ]
  },
  {
   "cell_type": "code",
   "execution_count": null,
   "id": "efc8dfd3",
   "metadata": {},
   "outputs": [],
   "source": [
    "video_analysis_consol['Publish Time'] = video_analysis_consol['Publish Time'].dt.strftime('%d.%m.%y')"
   ]
  },
  {
   "cell_type": "code",
   "execution_count": null,
   "id": "92fe8a68",
   "metadata": {},
   "outputs": [],
   "source": [
    "video_analysis_consol['Publish Time'] = pd.to_datetime(video_analysis_consol['Publish Time'], format='%d.%m.%y')"
   ]
  },
  {
   "cell_type": "code",
   "execution_count": null,
   "id": "17ef804f",
   "metadata": {},
   "outputs": [],
   "source": [
    "publ1_type = video_analysis_consol['Publish Time'].apply(type)"
   ]
  },
  {
   "cell_type": "code",
   "execution_count": null,
   "id": "a5336fd5",
   "metadata": {},
   "outputs": [],
   "source": [
    "publ1_type.unique()"
   ]
  },
  {
   "cell_type": "code",
   "execution_count": null,
   "id": "04c79859",
   "metadata": {},
   "outputs": [],
   "source": [
    "video_analysis_consol.head()"
   ]
  },
  {
   "cell_type": "code",
   "execution_count": null,
   "id": "9dfba8fe",
   "metadata": {},
   "outputs": [],
   "source": [
    "cat_type = video_analysis_consol['Category'].apply(type)"
   ]
  },
  {
   "cell_type": "code",
   "execution_count": null,
   "id": "4691c718",
   "metadata": {},
   "outputs": [],
   "source": [
    "cat_type.unique()"
   ]
  },
  {
   "cell_type": "code",
   "execution_count": null,
   "id": "218d1edd",
   "metadata": {},
   "outputs": [],
   "source": [
    "video_analysis_consol['Category'] = round(video_analysis_consol['Category'])"
   ]
  },
  {
   "cell_type": "code",
   "execution_count": null,
   "id": "ecae8a4f",
   "metadata": {},
   "outputs": [],
   "source": [
    "video_analysis_consol['Category'] = video_analysis_consol['Category'].convert_dtypes(int)"
   ]
  },
  {
   "cell_type": "code",
   "execution_count": null,
   "id": "281821c8",
   "metadata": {},
   "outputs": [],
   "source": [
    "cat1_type = video_analysis_consol['Category'].apply(type)"
   ]
  },
  {
   "cell_type": "code",
   "execution_count": null,
   "id": "316fd273",
   "metadata": {},
   "outputs": [],
   "source": [
    "cat1_type.unique()"
   ]
  },
  {
   "cell_type": "code",
   "execution_count": null,
   "id": "5589930d",
   "metadata": {},
   "outputs": [],
   "source": [
    "views_type = video_analysis_consol['Views'].apply(type)"
   ]
  },
  {
   "cell_type": "code",
   "execution_count": null,
   "id": "08c49e47",
   "metadata": {},
   "outputs": [],
   "source": [
    "views_type.unique()"
   ]
  },
  {
   "cell_type": "code",
   "execution_count": null,
   "id": "eecd99fa",
   "metadata": {},
   "outputs": [],
   "source": [
    "video_analysis_consol['Views'] = round(video_analysis_consol['Views'])"
   ]
  },
  {
   "cell_type": "code",
   "execution_count": null,
   "id": "481c144b",
   "metadata": {},
   "outputs": [],
   "source": [
    "video_analysis_consol['Views'] = video_analysis_consol['Views'].convert_dtypes(int)"
   ]
  },
  {
   "cell_type": "code",
   "execution_count": null,
   "id": "9483f998",
   "metadata": {},
   "outputs": [],
   "source": [
    "views1_type = video_analysis_consol['Views'].apply(type)"
   ]
  },
  {
   "cell_type": "code",
   "execution_count": null,
   "id": "672e86da",
   "metadata": {},
   "outputs": [],
   "source": [
    "views1_type.unique()"
   ]
  },
  {
   "cell_type": "code",
   "execution_count": null,
   "id": "b56f5a3b",
   "metadata": {},
   "outputs": [],
   "source": [
    "like_type = video_analysis_consol['Likes'].apply(type)"
   ]
  },
  {
   "cell_type": "code",
   "execution_count": null,
   "id": "4205c3f5",
   "metadata": {},
   "outputs": [],
   "source": [
    "like_type.unique()"
   ]
  },
  {
   "cell_type": "code",
   "execution_count": null,
   "id": "65fc3952",
   "metadata": {},
   "outputs": [],
   "source": [
    "video_analysis_consol['Likes'] = round(video_analysis_consol['Likes'])"
   ]
  },
  {
   "cell_type": "code",
   "execution_count": null,
   "id": "7583b5eb",
   "metadata": {},
   "outputs": [],
   "source": [
    "video_analysis_consol['Likes'] = video_analysis_consol['Likes'].convert_dtypes(int)"
   ]
  },
  {
   "cell_type": "code",
   "execution_count": null,
   "id": "14edfa17",
   "metadata": {},
   "outputs": [],
   "source": [
    "like1_type = video_analysis_consol['Likes'].apply(type)"
   ]
  },
  {
   "cell_type": "code",
   "execution_count": null,
   "id": "12af84b9",
   "metadata": {},
   "outputs": [],
   "source": [
    "like1_type.unique()"
   ]
  },
  {
   "cell_type": "code",
   "execution_count": null,
   "id": "62a44c4f",
   "metadata": {},
   "outputs": [],
   "source": [
    "dislike_type = video_analysis_consol['Dislikes'].apply(type)"
   ]
  },
  {
   "cell_type": "code",
   "execution_count": null,
   "id": "eb545dd0",
   "metadata": {},
   "outputs": [],
   "source": [
    "dislike_type.unique()"
   ]
  },
  {
   "cell_type": "code",
   "execution_count": null,
   "id": "3075d080",
   "metadata": {},
   "outputs": [],
   "source": [
    "video_analysis_consol['Dislikes'] = round(video_analysis_consol['Dislikes'])"
   ]
  },
  {
   "cell_type": "code",
   "execution_count": null,
   "id": "7102c43d",
   "metadata": {},
   "outputs": [],
   "source": [
    "video_analysis_consol['Dislikes'] = video_analysis_consol['Dislikes'].convert_dtypes(int)"
   ]
  },
  {
   "cell_type": "code",
   "execution_count": null,
   "id": "8634ff7b",
   "metadata": {},
   "outputs": [],
   "source": [
    "dislike1_type = video_analysis_consol['Dislikes'].apply(type)"
   ]
  },
  {
   "cell_type": "code",
   "execution_count": null,
   "id": "54109715",
   "metadata": {},
   "outputs": [],
   "source": [
    "dislike1_type.unique()"
   ]
  },
  {
   "cell_type": "code",
   "execution_count": null,
   "id": "6df4e98e",
   "metadata": {},
   "outputs": [],
   "source": [
    "comment_type = video_analysis_consol['Comment Counts'].apply(type)"
   ]
  },
  {
   "cell_type": "code",
   "execution_count": null,
   "id": "4b692316",
   "metadata": {},
   "outputs": [],
   "source": [
    "comment_type.unique()"
   ]
  },
  {
   "cell_type": "code",
   "execution_count": null,
   "id": "51247d35",
   "metadata": {},
   "outputs": [],
   "source": [
    "video_analysis_consol['Comment Counts'] = round(video_analysis_consol['Comment Counts'])"
   ]
  },
  {
   "cell_type": "code",
   "execution_count": null,
   "id": "4f3716f9",
   "metadata": {},
   "outputs": [],
   "source": [
    "video_analysis_consol['Comment Counts'] = video_analysis_consol['Comment Counts'].convert_dtypes(int)"
   ]
  },
  {
   "cell_type": "code",
   "execution_count": null,
   "id": "87f7feaf",
   "metadata": {},
   "outputs": [],
   "source": [
    "comment1_type = video_analysis_consol['Comment Counts'].apply(type)"
   ]
  },
  {
   "cell_type": "code",
   "execution_count": null,
   "id": "908578ba",
   "metadata": {},
   "outputs": [],
   "source": [
    "comment1_type.unique()"
   ]
  },
  {
   "cell_type": "code",
   "execution_count": null,
   "id": "02ce6231",
   "metadata": {},
   "outputs": [],
   "source": [
    "video_analysis_consol.drop('Tags', axis=1, inplace=True)"
   ]
  },
  {
   "cell_type": "code",
   "execution_count": null,
   "id": "13b3e3dd",
   "metadata": {},
   "outputs": [],
   "source": [
    "video_analysis_consol.drop('Thumbnail', axis=1, inplace=True)"
   ]
  },
  {
   "cell_type": "code",
   "execution_count": null,
   "id": "09054218",
   "metadata": {},
   "outputs": [],
   "source": [
    "video_analysis_consol.head()"
   ]
  },
  {
   "cell_type": "code",
   "execution_count": null,
   "id": "02022117",
   "metadata": {},
   "outputs": [],
   "source": [
    "video_analysis_consol[video_analysis_consol['video_error_or_removed']==True]"
   ]
  },
  {
   "cell_type": "code",
   "execution_count": null,
   "id": "df95dcd2",
   "metadata": {},
   "outputs": [],
   "source": [
    "video_analysis_consol.to_csv('final1.csv')"
   ]
  },
  {
   "cell_type": "code",
   "execution_count": null,
   "id": "1b0781cc",
   "metadata": {},
   "outputs": [],
   "source": [
    "video_analysis_consol.drop(video_analysis_consol[video_analysis_consol['video_error_or_removed']==True].index, inplace=True)"
   ]
  },
  {
   "cell_type": "code",
   "execution_count": null,
   "id": "a9252798",
   "metadata": {},
   "outputs": [],
   "source": [
    "video_analysis_consol.info()"
   ]
  },
  {
   "cell_type": "code",
   "execution_count": null,
   "id": "7fedfff1",
   "metadata": {},
   "outputs": [],
   "source": [
    "video_analysis_consol.drop(columns='Comments Disabled', axis=1, inplace=True)"
   ]
  },
  {
   "cell_type": "code",
   "execution_count": null,
   "id": "2f8795b9",
   "metadata": {},
   "outputs": [],
   "source": [
    "video_analysis_consol.drop(columns='Ratings Disabled', axis=1, inplace=True)"
   ]
  },
  {
   "cell_type": "code",
   "execution_count": null,
   "id": "3f49fd5f",
   "metadata": {},
   "outputs": [],
   "source": [
    "video_analysis_consol.info()"
   ]
  },
  {
   "cell_type": "code",
   "execution_count": null,
   "id": "b0dce34a",
   "metadata": {},
   "outputs": [],
   "source": [
    "video_analysis_consol.isnull().any()"
   ]
  },
  {
   "cell_type": "code",
   "execution_count": null,
   "id": "cb983f2c",
   "metadata": {},
   "outputs": [],
   "source": [
    "descript_type = video_analysis_consol['Description'].apply(type)"
   ]
  },
  {
   "cell_type": "code",
   "execution_count": null,
   "id": "53dc5c01",
   "metadata": {},
   "outputs": [],
   "source": [
    "descript_type.unique()"
   ]
  },
  {
   "cell_type": "code",
   "execution_count": null,
   "id": "c5c41186",
   "metadata": {},
   "outputs": [],
   "source": [
    "video_analysis_consol.drop(columns='Description', inplace=True)"
   ]
  },
  {
   "cell_type": "code",
   "execution_count": null,
   "id": "ed103f78",
   "metadata": {},
   "outputs": [],
   "source": [
    "video_analysis_consol.drop(columns='video_error_or_removed', inplace=True)"
   ]
  },
  {
   "cell_type": "code",
   "execution_count": null,
   "id": "55dfd485",
   "metadata": {},
   "outputs": [],
   "source": [
    "video_analysis_consol.drop(columns='Channel Name', inplace=True)"
   ]
  },
  {
   "cell_type": "code",
   "execution_count": null,
   "id": "6b0b0f71",
   "metadata": {},
   "outputs": [],
   "source": [
    "video_analysis_consol.drop(columns='Video ID', inplace=True)"
   ]
  },
  {
   "cell_type": "code",
   "execution_count": null,
   "id": "4964335d",
   "metadata": {},
   "outputs": [],
   "source": [
    "video_analysis_consol.info()"
   ]
  },
  {
   "cell_type": "code",
   "execution_count": null,
   "id": "e1d53175",
   "metadata": {},
   "outputs": [],
   "source": [
    "video_analysis_consol.rename(columns={'Account No':'Total Accounts / Country', 'Country':'Territory', 'Trending Date':'Trending Date (yyyy-mm-dd)', 'Title':'Active Title Name', 'AVG Runtime': 'AVG Runtime Per Ctgry / min','Playback Time':'Playback Time / min', 'Publish Time':'Title Publish Date (yyyy-mm-dd)', 'Comment Counts':'Comments'}, inplace=True)"
   ]
  },
  {
   "cell_type": "code",
   "execution_count": null,
   "id": "08fd26b5",
   "metadata": {},
   "outputs": [],
   "source": [
    "video_analysis_consol.to_csv('Vide_analysis_cleansed_data.csv')"
   ]
  },
  {
   "cell_type": "code",
   "execution_count": null,
   "id": "149b32c7",
   "metadata": {},
   "outputs": [],
   "source": [
    "video_analysis_consol.info()"
   ]
  },
  {
   "cell_type": "code",
   "execution_count": null,
   "id": "bf466f6a",
   "metadata": {},
   "outputs": [],
   "source": [
    "video_analysis_consol['Territory'].unique()"
   ]
  },
  {
   "cell_type": "code",
   "execution_count": null,
   "id": "cba38a33",
   "metadata": {},
   "outputs": [],
   "source": [
    "df['Active Title Name'].unique()"
   ]
  },
  {
   "cell_type": "code",
   "execution_count": null,
   "id": "366bb39d",
   "metadata": {},
   "outputs": [],
   "source": [
    "# cleaning title name which has irregular capitalizations"
   ]
  },
  {
   "cell_type": "code",
   "execution_count": null,
   "id": "9bbd9d11",
   "metadata": {},
   "outputs": [],
   "source": [
    "df['Active Title Name'] = df['Active Title Name'].apply(lambda x : x.strip().capitalize())"
   ]
  },
  {
   "cell_type": "code",
   "execution_count": null,
   "id": "a1f7f1f2",
   "metadata": {},
   "outputs": [],
   "source": [
    "df['Active Title Name'].unique()"
   ]
  },
  {
   "cell_type": "code",
   "execution_count": null,
   "id": "8cf3b33d",
   "metadata": {},
   "outputs": [],
   "source": [
    "df.to_csv('cleaned_data.csv')"
   ]
  },
  {
   "cell_type": "code",
   "execution_count": 2,
   "id": "05f0ceee",
   "metadata": {},
   "outputs": [],
   "source": [
    "df1 = pd.read_csv('C:\\\\UDEMY\\\\BUSINESS INTELLIGENCE ENGINEER\\\\Projects\\\\Data cleansing\\\\cleaned_data.csv')"
   ]
  },
  {
   "cell_type": "code",
   "execution_count": 3,
   "id": "7ae3ad05",
   "metadata": {},
   "outputs": [
    {
     "data": {
      "text/html": [
       "<div>\n",
       "<style scoped>\n",
       "    .dataframe tbody tr th:only-of-type {\n",
       "        vertical-align: middle;\n",
       "    }\n",
       "\n",
       "    .dataframe tbody tr th {\n",
       "        vertical-align: top;\n",
       "    }\n",
       "\n",
       "    .dataframe thead th {\n",
       "        text-align: right;\n",
       "    }\n",
       "</style>\n",
       "<table border=\"1\" class=\"dataframe\">\n",
       "  <thead>\n",
       "    <tr style=\"text-align: right;\">\n",
       "      <th></th>\n",
       "      <th>Unnamed: 0</th>\n",
       "      <th>Total Accounts / Country</th>\n",
       "      <th>Territory</th>\n",
       "      <th>Trending Date (yyyy-mm-dd)</th>\n",
       "      <th>Active Title Name</th>\n",
       "      <th>AVG Runtime Per Ctgry / min</th>\n",
       "      <th>Playback Time / min</th>\n",
       "      <th>Category</th>\n",
       "      <th>Title Publish Date (yyyy-mm-dd)</th>\n",
       "      <th>Views</th>\n",
       "      <th>Likes</th>\n",
       "      <th>Dislikes</th>\n",
       "      <th>Comments</th>\n",
       "    </tr>\n",
       "  </thead>\n",
       "  <tbody>\n",
       "    <tr>\n",
       "      <th>0</th>\n",
       "      <td>0</td>\n",
       "      <td>326113</td>\n",
       "      <td>America</td>\n",
       "      <td>1/17/2011</td>\n",
       "      <td>We want to talk about our marriage</td>\n",
       "      <td>17.3</td>\n",
       "      <td>10325128</td>\n",
       "      <td>22</td>\n",
       "      <td>11/13/2017</td>\n",
       "      <td>748374</td>\n",
       "      <td>57527</td>\n",
       "      <td>2966</td>\n",
       "      <td>15954</td>\n",
       "    </tr>\n",
       "    <tr>\n",
       "      <th>1</th>\n",
       "      <td>1</td>\n",
       "      <td>326113</td>\n",
       "      <td>America</td>\n",
       "      <td>1/17/2011</td>\n",
       "      <td>The trump presidency: last week tonight with j...</td>\n",
       "      <td>9.3</td>\n",
       "      <td>17939508</td>\n",
       "      <td>24</td>\n",
       "      <td>11/13/2017</td>\n",
       "      <td>2418783</td>\n",
       "      <td>97185</td>\n",
       "      <td>6146</td>\n",
       "      <td>12703</td>\n",
       "    </tr>\n",
       "    <tr>\n",
       "      <th>2</th>\n",
       "      <td>2</td>\n",
       "      <td>326113</td>\n",
       "      <td>America</td>\n",
       "      <td>1/17/2011</td>\n",
       "      <td>Racist superman | rudy mancuso, king bach &amp; le...</td>\n",
       "      <td>12.8</td>\n",
       "      <td>32578158</td>\n",
       "      <td>23</td>\n",
       "      <td>11/12/2017</td>\n",
       "      <td>3191434</td>\n",
       "      <td>146033</td>\n",
       "      <td>5339</td>\n",
       "      <td>8181</td>\n",
       "    </tr>\n",
       "    <tr>\n",
       "      <th>3</th>\n",
       "      <td>3</td>\n",
       "      <td>326113</td>\n",
       "      <td>America</td>\n",
       "      <td>1/17/2011</td>\n",
       "      <td>Nickelback lyrics: real or fake?</td>\n",
       "      <td>9.3</td>\n",
       "      <td>2545191</td>\n",
       "      <td>24</td>\n",
       "      <td>11/13/2017</td>\n",
       "      <td>343168</td>\n",
       "      <td>10172</td>\n",
       "      <td>666</td>\n",
       "      <td>2146</td>\n",
       "    </tr>\n",
       "    <tr>\n",
       "      <th>4</th>\n",
       "      <td>4</td>\n",
       "      <td>326113</td>\n",
       "      <td>America</td>\n",
       "      <td>1/17/2011</td>\n",
       "      <td>I dare you: going bald!?</td>\n",
       "      <td>9.3</td>\n",
       "      <td>15543512</td>\n",
       "      <td>24</td>\n",
       "      <td>11/12/2017</td>\n",
       "      <td>2095731</td>\n",
       "      <td>132235</td>\n",
       "      <td>1989</td>\n",
       "      <td>17518</td>\n",
       "    </tr>\n",
       "  </tbody>\n",
       "</table>\n",
       "</div>"
      ],
      "text/plain": [
       "   Unnamed: 0  Total Accounts / Country Territory Trending Date (yyyy-mm-dd)  \\\n",
       "0           0                    326113   America                  1/17/2011   \n",
       "1           1                    326113   America                  1/17/2011   \n",
       "2           2                    326113   America                  1/17/2011   \n",
       "3           3                    326113   America                  1/17/2011   \n",
       "4           4                    326113   America                  1/17/2011   \n",
       "\n",
       "                                   Active Title Name  \\\n",
       "0                 We want to talk about our marriage   \n",
       "1  The trump presidency: last week tonight with j...   \n",
       "2  Racist superman | rudy mancuso, king bach & le...   \n",
       "3                   Nickelback lyrics: real or fake?   \n",
       "4                           I dare you: going bald!?   \n",
       "\n",
       "   AVG Runtime Per Ctgry / min  Playback Time / min  Category  \\\n",
       "0                         17.3             10325128        22   \n",
       "1                          9.3             17939508        24   \n",
       "2                         12.8             32578158        23   \n",
       "3                          9.3              2545191        24   \n",
       "4                          9.3             15543512        24   \n",
       "\n",
       "  Title Publish Date (yyyy-mm-dd)    Views   Likes  Dislikes  Comments  \n",
       "0                      11/13/2017   748374   57527      2966     15954  \n",
       "1                      11/13/2017  2418783   97185      6146     12703  \n",
       "2                      11/12/2017  3191434  146033      5339      8181  \n",
       "3                      11/13/2017   343168   10172       666      2146  \n",
       "4                      11/12/2017  2095731  132235      1989     17518  "
      ]
     },
     "execution_count": 3,
     "metadata": {},
     "output_type": "execute_result"
    }
   ],
   "source": [
    "df1.head()"
   ]
  },
  {
   "cell_type": "code",
   "execution_count": 4,
   "id": "07209151",
   "metadata": {},
   "outputs": [],
   "source": [
    "df1.drop(columns=df1.columns[0], axis = 1, inplace = True)"
   ]
  },
  {
   "cell_type": "code",
   "execution_count": 5,
   "id": "c6efbbe9",
   "metadata": {},
   "outputs": [
    {
     "data": {
      "text/html": [
       "<div>\n",
       "<style scoped>\n",
       "    .dataframe tbody tr th:only-of-type {\n",
       "        vertical-align: middle;\n",
       "    }\n",
       "\n",
       "    .dataframe tbody tr th {\n",
       "        vertical-align: top;\n",
       "    }\n",
       "\n",
       "    .dataframe thead th {\n",
       "        text-align: right;\n",
       "    }\n",
       "</style>\n",
       "<table border=\"1\" class=\"dataframe\">\n",
       "  <thead>\n",
       "    <tr style=\"text-align: right;\">\n",
       "      <th></th>\n",
       "      <th>Total Accounts / Country</th>\n",
       "      <th>Territory</th>\n",
       "      <th>Trending Date (yyyy-mm-dd)</th>\n",
       "      <th>Active Title Name</th>\n",
       "      <th>AVG Runtime Per Ctgry / min</th>\n",
       "      <th>Playback Time / min</th>\n",
       "      <th>Category</th>\n",
       "      <th>Title Publish Date (yyyy-mm-dd)</th>\n",
       "      <th>Views</th>\n",
       "      <th>Likes</th>\n",
       "      <th>Dislikes</th>\n",
       "      <th>Comments</th>\n",
       "    </tr>\n",
       "  </thead>\n",
       "  <tbody>\n",
       "    <tr>\n",
       "      <th>0</th>\n",
       "      <td>326113</td>\n",
       "      <td>America</td>\n",
       "      <td>1/17/2011</td>\n",
       "      <td>We want to talk about our marriage</td>\n",
       "      <td>17.3</td>\n",
       "      <td>10325128</td>\n",
       "      <td>22</td>\n",
       "      <td>11/13/2017</td>\n",
       "      <td>748374</td>\n",
       "      <td>57527</td>\n",
       "      <td>2966</td>\n",
       "      <td>15954</td>\n",
       "    </tr>\n",
       "    <tr>\n",
       "      <th>1</th>\n",
       "      <td>326113</td>\n",
       "      <td>America</td>\n",
       "      <td>1/17/2011</td>\n",
       "      <td>The trump presidency: last week tonight with j...</td>\n",
       "      <td>9.3</td>\n",
       "      <td>17939508</td>\n",
       "      <td>24</td>\n",
       "      <td>11/13/2017</td>\n",
       "      <td>2418783</td>\n",
       "      <td>97185</td>\n",
       "      <td>6146</td>\n",
       "      <td>12703</td>\n",
       "    </tr>\n",
       "    <tr>\n",
       "      <th>2</th>\n",
       "      <td>326113</td>\n",
       "      <td>America</td>\n",
       "      <td>1/17/2011</td>\n",
       "      <td>Racist superman | rudy mancuso, king bach &amp; le...</td>\n",
       "      <td>12.8</td>\n",
       "      <td>32578158</td>\n",
       "      <td>23</td>\n",
       "      <td>11/12/2017</td>\n",
       "      <td>3191434</td>\n",
       "      <td>146033</td>\n",
       "      <td>5339</td>\n",
       "      <td>8181</td>\n",
       "    </tr>\n",
       "    <tr>\n",
       "      <th>3</th>\n",
       "      <td>326113</td>\n",
       "      <td>America</td>\n",
       "      <td>1/17/2011</td>\n",
       "      <td>Nickelback lyrics: real or fake?</td>\n",
       "      <td>9.3</td>\n",
       "      <td>2545191</td>\n",
       "      <td>24</td>\n",
       "      <td>11/13/2017</td>\n",
       "      <td>343168</td>\n",
       "      <td>10172</td>\n",
       "      <td>666</td>\n",
       "      <td>2146</td>\n",
       "    </tr>\n",
       "    <tr>\n",
       "      <th>4</th>\n",
       "      <td>326113</td>\n",
       "      <td>America</td>\n",
       "      <td>1/17/2011</td>\n",
       "      <td>I dare you: going bald!?</td>\n",
       "      <td>9.3</td>\n",
       "      <td>15543512</td>\n",
       "      <td>24</td>\n",
       "      <td>11/12/2017</td>\n",
       "      <td>2095731</td>\n",
       "      <td>132235</td>\n",
       "      <td>1989</td>\n",
       "      <td>17518</td>\n",
       "    </tr>\n",
       "  </tbody>\n",
       "</table>\n",
       "</div>"
      ],
      "text/plain": [
       "   Total Accounts / Country Territory Trending Date (yyyy-mm-dd)  \\\n",
       "0                    326113   America                  1/17/2011   \n",
       "1                    326113   America                  1/17/2011   \n",
       "2                    326113   America                  1/17/2011   \n",
       "3                    326113   America                  1/17/2011   \n",
       "4                    326113   America                  1/17/2011   \n",
       "\n",
       "                                   Active Title Name  \\\n",
       "0                 We want to talk about our marriage   \n",
       "1  The trump presidency: last week tonight with j...   \n",
       "2  Racist superman | rudy mancuso, king bach & le...   \n",
       "3                   Nickelback lyrics: real or fake?   \n",
       "4                           I dare you: going bald!?   \n",
       "\n",
       "   AVG Runtime Per Ctgry / min  Playback Time / min  Category  \\\n",
       "0                         17.3             10325128        22   \n",
       "1                          9.3             17939508        24   \n",
       "2                         12.8             32578158        23   \n",
       "3                          9.3              2545191        24   \n",
       "4                          9.3             15543512        24   \n",
       "\n",
       "  Title Publish Date (yyyy-mm-dd)    Views   Likes  Dislikes  Comments  \n",
       "0                      11/13/2017   748374   57527      2966     15954  \n",
       "1                      11/13/2017  2418783   97185      6146     12703  \n",
       "2                      11/12/2017  3191434  146033      5339      8181  \n",
       "3                      11/13/2017   343168   10172       666      2146  \n",
       "4                      11/12/2017  2095731  132235      1989     17518  "
      ]
     },
     "execution_count": 5,
     "metadata": {},
     "output_type": "execute_result"
    }
   ],
   "source": [
    "df1.head()"
   ]
  },
  {
   "cell_type": "code",
   "execution_count": null,
   "id": "e7916b84",
   "metadata": {},
   "outputs": [],
   "source": [
    "# Selecting Inconsistent title name"
   ]
  },
  {
   "cell_type": "code",
   "execution_count": 6,
   "id": "7c75b355",
   "metadata": {},
   "outputs": [
    {
     "data": {
      "text/plain": [
       "4997    Ðð°ñ\n",
       "ð°ñ ð¸ ðð¾ð»ð¸ð½ð° ññð°ñññ ñðºð¾...\n",
       "4998    Ðð¸ñð¶ð° ððµð¼ð¾ð² #29. ðð¾ð»ññð¾ð¸ì ð²...\n",
       "4999    Ð¥ððð ðð­ðð - ð¡ððð ð¡ð ððð ð§ð£ð...\n",
       "5000    Ð¡ð¾ñð½ð°ñ ðºðµñð°ð´ð¸ð»ññ ñ ðºññð¸ñðµð¹\n",
       "5001    Ððððð« ð ðððð¢ðððð ðð ð¨ðððð¬ð...\n",
       "                              ...                        \n",
       "9989    Ð¡ð°ð¼ñð¹ ñð±ññð¾ñð½ñð¹ volkswagen!  ðð...\n",
       "9990    Ð®ð¶ð½ð°ñ ðð¾ñðµñ ð² ñð¾ðºðµ ð¾ñ ñð°ðºð...\n",
       "9991    +100500 - ðð¾ñðµð¼ñ ððµð»ñð·ñ ðð°ññð¿...\n",
       "9992    Ððð ððððð¦! ð¡ð½ð¾ð²ð°...[ð¢ð¾ð¿ ð¡ð¸ðº...\n",
       "9993    Ððµð¿ð¾ññðµð´ññð²ðµð½ð½ð¾ ðð°ñ\n",
       "ð° -- ðð...\n",
       "Name: Active Title Name, Length: 4997, dtype: object"
      ]
     },
     "execution_count": 6,
     "metadata": {},
     "output_type": "execute_result"
    }
   ],
   "source": [
    "df1[df1['Territory'] == 'Russia']['Active Title Name']"
   ]
  },
  {
   "cell_type": "code",
   "execution_count": null,
   "id": "8099df26",
   "metadata": {},
   "outputs": [],
   "source": [
    "# Encoding and Decoding to eliminate special characters"
   ]
  },
  {
   "cell_type": "code",
   "execution_count": 7,
   "id": "25967570",
   "metadata": {},
   "outputs": [],
   "source": [
    "import re"
   ]
  },
  {
   "cell_type": "code",
   "execution_count": 8,
   "id": "7ed52d37",
   "metadata": {},
   "outputs": [],
   "source": [
    "def clean_text(text):\n",
    "    decoded_text = text.encode('latin1').decode('latin-1', errors = 'ignore')\n",
    "    cleaned_text = re.sub(r'[^\\x00-\\x7F]+', '', decoded_text)\n",
    "    return cleaned_text"
   ]
  },
  {
   "cell_type": "code",
   "execution_count": 9,
   "id": "c33f3d26",
   "metadata": {},
   "outputs": [],
   "source": [
    "df1['Active Title Name'] = df1['Active Title Name'].apply(clean_text)"
   ]
  },
  {
   "cell_type": "code",
   "execution_count": 10,
   "id": "183518bc",
   "metadata": {},
   "outputs": [
    {
     "data": {
      "text/plain": [
       "4997                            \n",
       "4998                      #29.  \n",
       "4999                        -   \n",
       "5000                            \n",
       "5001                            \n",
       "                  ...           \n",
       "9989      volkswagen!   phaeton.\n",
       "9990                            \n",
       "9991           +100500 -      ?!\n",
       "9992                    ! ...[ ]\n",
       "9993                  --   4  8 \n",
       "Name: Active Title Name, Length: 4997, dtype: object"
      ]
     },
     "execution_count": 10,
     "metadata": {},
     "output_type": "execute_result"
    }
   ],
   "source": [
    "df1[df1['Territory'] == 'Russia']['Active Title Name']"
   ]
  },
  {
   "cell_type": "code",
   "execution_count": 210,
   "id": "e83f599f",
   "metadata": {},
   "outputs": [
    {
     "data": {
      "text/plain": [
       "Total Accounts / Country           False\n",
       "Territory                          False\n",
       "Trending Date (yyyy-mm-dd)         False\n",
       "Active Title Name                  False\n",
       "AVG Runtime Per Ctgry / min        False\n",
       "Playback Time / min                False\n",
       "Category                           False\n",
       "Title Publish Date (yyyy-mm-dd)    False\n",
       "Views                              False\n",
       "Likes                              False\n",
       "Dislikes                           False\n",
       "Comments                           False\n",
       "dtype: bool"
      ]
     },
     "execution_count": 210,
     "metadata": {},
     "output_type": "execute_result"
    }
   ],
   "source": [
    "df1.isnull().any()"
   ]
  },
  {
   "cell_type": "code",
   "execution_count": null,
   "id": "76972040",
   "metadata": {},
   "outputs": [],
   "source": [
    "# Selecting rows that has only space due to removal of special characters"
   ]
  },
  {
   "cell_type": "code",
   "execution_count": 11,
   "id": "d2201f74",
   "metadata": {},
   "outputs": [
    {
     "data": {
      "text/plain": [
       "1161"
      ]
     },
     "execution_count": 11,
     "metadata": {},
     "output_type": "execute_result"
    }
   ],
   "source": [
    "df1[df1['Active Title Name'] == '']['Active Title Name'].count()"
   ]
  },
  {
   "cell_type": "code",
   "execution_count": 59,
   "id": "3c08bcf7",
   "metadata": {},
   "outputs": [],
   "source": [
    "index_list = []"
   ]
  },
  {
   "cell_type": "code",
   "execution_count": 60,
   "id": "11469095",
   "metadata": {},
   "outputs": [],
   "source": [
    "index_list = df1[df1['Active Title Name'].str.strip() == ''].index  # Creating Index of those rows as a list"
   ]
  },
  {
   "cell_type": "code",
   "execution_count": 61,
   "id": "887b5f26",
   "metadata": {},
   "outputs": [
    {
     "name": "stdout",
     "output_type": "stream",
     "text": [
      "Int64Index([ 3362,  4997,  5000,  5001,  5014,  5015,  5019,  5028,  5030,\n",
      "             5062,\n",
      "            ...\n",
      "            37862, 37904, 37906, 38165, 38352, 38504, 38707, 38726, 39715,\n",
      "            39754],\n",
      "           dtype='int64', length=2014)\n"
     ]
    }
   ],
   "source": [
    "print (index_list)"
   ]
  },
  {
   "cell_type": "code",
   "execution_count": 65,
   "id": "708bc72c",
   "metadata": {},
   "outputs": [
    {
     "data": {
      "text/html": [
       "<div>\n",
       "<style scoped>\n",
       "    .dataframe tbody tr th:only-of-type {\n",
       "        vertical-align: middle;\n",
       "    }\n",
       "\n",
       "    .dataframe tbody tr th {\n",
       "        vertical-align: top;\n",
       "    }\n",
       "\n",
       "    .dataframe thead th {\n",
       "        text-align: right;\n",
       "    }\n",
       "</style>\n",
       "<table border=\"1\" class=\"dataframe\">\n",
       "  <thead>\n",
       "    <tr style=\"text-align: right;\">\n",
       "      <th></th>\n",
       "      <th>Total Accounts / Country</th>\n",
       "      <th>Territory</th>\n",
       "      <th>Trending Date (yyyy-mm-dd)</th>\n",
       "      <th>Active Title Name</th>\n",
       "      <th>AVG Runtime Per Ctgry / min</th>\n",
       "      <th>Playback Time / min</th>\n",
       "      <th>Category</th>\n",
       "      <th>Title Publish Date (yyyy-mm-dd)</th>\n",
       "      <th>Views</th>\n",
       "      <th>Likes</th>\n",
       "      <th>Dislikes</th>\n",
       "      <th>Comments</th>\n",
       "    </tr>\n",
       "  </thead>\n",
       "  <tbody>\n",
       "    <tr>\n",
       "      <th>3362</th>\n",
       "      <td>326113</td>\n",
       "      <td>America</td>\n",
       "      <td>10/17/2012</td>\n",
       "      <td></td>\n",
       "      <td>5.2</td>\n",
       "      <td>749408</td>\n",
       "      <td>25</td>\n",
       "      <td>11/24/2017</td>\n",
       "      <td>180711</td>\n",
       "      <td>1667</td>\n",
       "      <td>418</td>\n",
       "      <td>1082</td>\n",
       "    </tr>\n",
       "    <tr>\n",
       "      <th>4997</th>\n",
       "      <td>87290</td>\n",
       "      <td>Russia</td>\n",
       "      <td>1/17/2011</td>\n",
       "      <td></td>\n",
       "      <td>17.3</td>\n",
       "      <td>861027</td>\n",
       "      <td>22</td>\n",
       "      <td>11/13/2017</td>\n",
       "      <td>62408</td>\n",
       "      <td>334</td>\n",
       "      <td>190</td>\n",
       "      <td>50</td>\n",
       "    </tr>\n",
       "    <tr>\n",
       "      <th>5000</th>\n",
       "      <td>87290</td>\n",
       "      <td>Russia</td>\n",
       "      <td>1/17/2011</td>\n",
       "      <td></td>\n",
       "      <td>17.3</td>\n",
       "      <td>1556977</td>\n",
       "      <td>22</td>\n",
       "      <td>11/13/2017</td>\n",
       "      <td>112851</td>\n",
       "      <td>3566</td>\n",
       "      <td>122</td>\n",
       "      <td>80</td>\n",
       "    </tr>\n",
       "    <tr>\n",
       "      <th>5001</th>\n",
       "      <td>87290</td>\n",
       "      <td>Russia</td>\n",
       "      <td>1/17/2011</td>\n",
       "      <td></td>\n",
       "      <td>9.3</td>\n",
       "      <td>1805748</td>\n",
       "      <td>24</td>\n",
       "      <td>11/13/2017</td>\n",
       "      <td>243469</td>\n",
       "      <td>36216</td>\n",
       "      <td>631</td>\n",
       "      <td>1692</td>\n",
       "    </tr>\n",
       "    <tr>\n",
       "      <th>5014</th>\n",
       "      <td>87290</td>\n",
       "      <td>Russia</td>\n",
       "      <td>1/17/2011</td>\n",
       "      <td></td>\n",
       "      <td>15.0</td>\n",
       "      <td>4333475</td>\n",
       "      <td>2</td>\n",
       "      <td>11/13/2017</td>\n",
       "      <td>362255</td>\n",
       "      <td>13776</td>\n",
       "      <td>874</td>\n",
       "      <td>1331</td>\n",
       "    </tr>\n",
       "    <tr>\n",
       "      <th>...</th>\n",
       "      <td>...</td>\n",
       "      <td>...</td>\n",
       "      <td>...</td>\n",
       "      <td>...</td>\n",
       "      <td>...</td>\n",
       "      <td>...</td>\n",
       "      <td>...</td>\n",
       "      <td>...</td>\n",
       "      <td>...</td>\n",
       "      <td>...</td>\n",
       "      <td>...</td>\n",
       "      <td>...</td>\n",
       "    </tr>\n",
       "    <tr>\n",
       "      <th>38504</th>\n",
       "      <td>350453</td>\n",
       "      <td>Canada</td>\n",
       "      <td>1/17/2012</td>\n",
       "      <td></td>\n",
       "      <td>5.2</td>\n",
       "      <td>331270</td>\n",
       "      <td>25</td>\n",
       "      <td>11/29/2017</td>\n",
       "      <td>79882</td>\n",
       "      <td>1038</td>\n",
       "      <td>65</td>\n",
       "      <td>377</td>\n",
       "    </tr>\n",
       "    <tr>\n",
       "      <th>38707</th>\n",
       "      <td>350453</td>\n",
       "      <td>Canada</td>\n",
       "      <td>2/17/2012</td>\n",
       "      <td></td>\n",
       "      <td>17.3</td>\n",
       "      <td>3523883</td>\n",
       "      <td>22</td>\n",
       "      <td>11/30/2017</td>\n",
       "      <td>255414</td>\n",
       "      <td>224</td>\n",
       "      <td>280</td>\n",
       "      <td>74</td>\n",
       "    </tr>\n",
       "    <tr>\n",
       "      <th>38726</th>\n",
       "      <td>350453</td>\n",
       "      <td>Canada</td>\n",
       "      <td>2/17/2012</td>\n",
       "      <td></td>\n",
       "      <td>5.2</td>\n",
       "      <td>235897</td>\n",
       "      <td>25</td>\n",
       "      <td>12/1/2017</td>\n",
       "      <td>56884</td>\n",
       "      <td>455</td>\n",
       "      <td>32</td>\n",
       "      <td>89</td>\n",
       "    </tr>\n",
       "    <tr>\n",
       "      <th>39715</th>\n",
       "      <td>350453</td>\n",
       "      <td>Canada</td>\n",
       "      <td>7/17/2012</td>\n",
       "      <td></td>\n",
       "      <td>5.2</td>\n",
       "      <td>203978</td>\n",
       "      <td>25</td>\n",
       "      <td>12/5/2017</td>\n",
       "      <td>49187</td>\n",
       "      <td>1317</td>\n",
       "      <td>194</td>\n",
       "      <td>579</td>\n",
       "    </tr>\n",
       "    <tr>\n",
       "      <th>39754</th>\n",
       "      <td>350453</td>\n",
       "      <td>Canada</td>\n",
       "      <td>7/17/2012</td>\n",
       "      <td></td>\n",
       "      <td>5.2</td>\n",
       "      <td>4425317</td>\n",
       "      <td>25</td>\n",
       "      <td>12/4/2017</td>\n",
       "      <td>1067113</td>\n",
       "      <td>0</td>\n",
       "      <td>0</td>\n",
       "      <td>1684</td>\n",
       "    </tr>\n",
       "  </tbody>\n",
       "</table>\n",
       "<p>2014 rows × 12 columns</p>\n",
       "</div>"
      ],
      "text/plain": [
       "       Total Accounts / Country Territory Trending Date (yyyy-mm-dd)  \\\n",
       "3362                     326113   America                 10/17/2012   \n",
       "4997                      87290    Russia                  1/17/2011   \n",
       "5000                      87290    Russia                  1/17/2011   \n",
       "5001                      87290    Russia                  1/17/2011   \n",
       "5014                      87290    Russia                  1/17/2011   \n",
       "...                         ...       ...                        ...   \n",
       "38504                    350453    Canada                  1/17/2012   \n",
       "38707                    350453    Canada                  2/17/2012   \n",
       "38726                    350453    Canada                  2/17/2012   \n",
       "39715                    350453    Canada                  7/17/2012   \n",
       "39754                    350453    Canada                  7/17/2012   \n",
       "\n",
       "      Active Title Name  AVG Runtime Per Ctgry / min  Playback Time / min  \\\n",
       "3362                                             5.2               749408   \n",
       "4997                                            17.3               861027   \n",
       "5000                                            17.3              1556977   \n",
       "5001                                             9.3              1805748   \n",
       "5014                                            15.0              4333475   \n",
       "...                 ...                          ...                  ...   \n",
       "38504                                            5.2               331270   \n",
       "38707                                           17.3              3523883   \n",
       "38726                                            5.2               235897   \n",
       "39715                                            5.2               203978   \n",
       "39754                                            5.2              4425317   \n",
       "\n",
       "       Category Title Publish Date (yyyy-mm-dd)    Views  Likes  Dislikes  \\\n",
       "3362         25                      11/24/2017   180711   1667       418   \n",
       "4997         22                      11/13/2017    62408    334       190   \n",
       "5000         22                      11/13/2017   112851   3566       122   \n",
       "5001         24                      11/13/2017   243469  36216       631   \n",
       "5014          2                      11/13/2017   362255  13776       874   \n",
       "...         ...                             ...      ...    ...       ...   \n",
       "38504        25                      11/29/2017    79882   1038        65   \n",
       "38707        22                      11/30/2017   255414    224       280   \n",
       "38726        25                       12/1/2017    56884    455        32   \n",
       "39715        25                       12/5/2017    49187   1317       194   \n",
       "39754        25                       12/4/2017  1067113      0         0   \n",
       "\n",
       "       Comments  \n",
       "3362       1082  \n",
       "4997         50  \n",
       "5000         80  \n",
       "5001       1692  \n",
       "5014       1331  \n",
       "...         ...  \n",
       "38504       377  \n",
       "38707        74  \n",
       "38726        89  \n",
       "39715       579  \n",
       "39754      1684  \n",
       "\n",
       "[2014 rows x 12 columns]"
      ]
     },
     "execution_count": 65,
     "metadata": {},
     "output_type": "execute_result"
    }
   ],
   "source": [
    "df1.iloc[index_list]"
   ]
  },
  {
   "cell_type": "code",
   "execution_count": 66,
   "id": "426b45c7",
   "metadata": {},
   "outputs": [],
   "source": [
    "df1.drop(index_list, inplace=True)            #  dropping those rows which has Active Title Name with only space"
   ]
  },
  {
   "cell_type": "code",
   "execution_count": 67,
   "id": "c141bf57",
   "metadata": {},
   "outputs": [
    {
     "name": "stdout",
     "output_type": "stream",
     "text": [
      "<class 'pandas.core.frame.DataFrame'>\n",
      "Int64Index: 37962 entries, 0 to 39975\n",
      "Data columns (total 12 columns):\n",
      " #   Column                           Non-Null Count  Dtype  \n",
      "---  ------                           --------------  -----  \n",
      " 0   Total Accounts / Country         37962 non-null  int64  \n",
      " 1   Territory                        37962 non-null  object \n",
      " 2   Trending Date (yyyy-mm-dd)       37962 non-null  object \n",
      " 3   Active Title Name                37962 non-null  object \n",
      " 4   AVG Runtime Per Ctgry / min      37962 non-null  float64\n",
      " 5   Playback Time / min              37962 non-null  int64  \n",
      " 6   Category                         37962 non-null  int64  \n",
      " 7   Title Publish Date (yyyy-mm-dd)  37962 non-null  object \n",
      " 8   Views                            37962 non-null  int64  \n",
      " 9   Likes                            37962 non-null  int64  \n",
      " 10  Dislikes                         37962 non-null  int64  \n",
      " 11  Comments                         37962 non-null  int64  \n",
      "dtypes: float64(1), int64(7), object(4)\n",
      "memory usage: 3.8+ MB\n"
     ]
    }
   ],
   "source": [
    "df1.info()"
   ]
  },
  {
   "cell_type": "code",
   "execution_count": 68,
   "id": "09d6f7d4",
   "metadata": {},
   "outputs": [],
   "source": [
    "df1.reset_index(drop=True, inplace=True)            # reseting index"
   ]
  },
  {
   "cell_type": "code",
   "execution_count": 69,
   "id": "c2d80064",
   "metadata": {},
   "outputs": [
    {
     "data": {
      "text/html": [
       "<div>\n",
       "<style scoped>\n",
       "    .dataframe tbody tr th:only-of-type {\n",
       "        vertical-align: middle;\n",
       "    }\n",
       "\n",
       "    .dataframe tbody tr th {\n",
       "        vertical-align: top;\n",
       "    }\n",
       "\n",
       "    .dataframe thead th {\n",
       "        text-align: right;\n",
       "    }\n",
       "</style>\n",
       "<table border=\"1\" class=\"dataframe\">\n",
       "  <thead>\n",
       "    <tr style=\"text-align: right;\">\n",
       "      <th></th>\n",
       "      <th>Total Accounts / Country</th>\n",
       "      <th>Territory</th>\n",
       "      <th>Trending Date (yyyy-mm-dd)</th>\n",
       "      <th>Active Title Name</th>\n",
       "      <th>AVG Runtime Per Ctgry / min</th>\n",
       "      <th>Playback Time / min</th>\n",
       "      <th>Category</th>\n",
       "      <th>Title Publish Date (yyyy-mm-dd)</th>\n",
       "      <th>Views</th>\n",
       "      <th>Likes</th>\n",
       "      <th>Dislikes</th>\n",
       "      <th>Comments</th>\n",
       "    </tr>\n",
       "  </thead>\n",
       "  <tbody>\n",
       "    <tr>\n",
       "      <th>0</th>\n",
       "      <td>326113</td>\n",
       "      <td>America</td>\n",
       "      <td>1/17/2011</td>\n",
       "      <td>We want to talk about our marriage</td>\n",
       "      <td>17.3</td>\n",
       "      <td>10325128</td>\n",
       "      <td>22</td>\n",
       "      <td>11/13/2017</td>\n",
       "      <td>748374</td>\n",
       "      <td>57527</td>\n",
       "      <td>2966</td>\n",
       "      <td>15954</td>\n",
       "    </tr>\n",
       "    <tr>\n",
       "      <th>1</th>\n",
       "      <td>326113</td>\n",
       "      <td>America</td>\n",
       "      <td>1/17/2011</td>\n",
       "      <td>The trump presidency: last week tonight with j...</td>\n",
       "      <td>9.3</td>\n",
       "      <td>17939508</td>\n",
       "      <td>24</td>\n",
       "      <td>11/13/2017</td>\n",
       "      <td>2418783</td>\n",
       "      <td>97185</td>\n",
       "      <td>6146</td>\n",
       "      <td>12703</td>\n",
       "    </tr>\n",
       "    <tr>\n",
       "      <th>2</th>\n",
       "      <td>326113</td>\n",
       "      <td>America</td>\n",
       "      <td>1/17/2011</td>\n",
       "      <td>Racist superman | rudy mancuso, king bach &amp; le...</td>\n",
       "      <td>12.8</td>\n",
       "      <td>32578158</td>\n",
       "      <td>23</td>\n",
       "      <td>11/12/2017</td>\n",
       "      <td>3191434</td>\n",
       "      <td>146033</td>\n",
       "      <td>5339</td>\n",
       "      <td>8181</td>\n",
       "    </tr>\n",
       "    <tr>\n",
       "      <th>3</th>\n",
       "      <td>326113</td>\n",
       "      <td>America</td>\n",
       "      <td>1/17/2011</td>\n",
       "      <td>Nickelback lyrics: real or fake?</td>\n",
       "      <td>9.3</td>\n",
       "      <td>2545191</td>\n",
       "      <td>24</td>\n",
       "      <td>11/13/2017</td>\n",
       "      <td>343168</td>\n",
       "      <td>10172</td>\n",
       "      <td>666</td>\n",
       "      <td>2146</td>\n",
       "    </tr>\n",
       "    <tr>\n",
       "      <th>4</th>\n",
       "      <td>326113</td>\n",
       "      <td>America</td>\n",
       "      <td>1/17/2011</td>\n",
       "      <td>I dare you: going bald!?</td>\n",
       "      <td>9.3</td>\n",
       "      <td>15543512</td>\n",
       "      <td>24</td>\n",
       "      <td>11/12/2017</td>\n",
       "      <td>2095731</td>\n",
       "      <td>132235</td>\n",
       "      <td>1989</td>\n",
       "      <td>17518</td>\n",
       "    </tr>\n",
       "  </tbody>\n",
       "</table>\n",
       "</div>"
      ],
      "text/plain": [
       "   Total Accounts / Country Territory Trending Date (yyyy-mm-dd)  \\\n",
       "0                    326113   America                  1/17/2011   \n",
       "1                    326113   America                  1/17/2011   \n",
       "2                    326113   America                  1/17/2011   \n",
       "3                    326113   America                  1/17/2011   \n",
       "4                    326113   America                  1/17/2011   \n",
       "\n",
       "                                   Active Title Name  \\\n",
       "0                 We want to talk about our marriage   \n",
       "1  The trump presidency: last week tonight with j...   \n",
       "2  Racist superman | rudy mancuso, king bach & le...   \n",
       "3                   Nickelback lyrics: real or fake?   \n",
       "4                           I dare you: going bald!?   \n",
       "\n",
       "   AVG Runtime Per Ctgry / min  Playback Time / min  Category  \\\n",
       "0                         17.3             10325128        22   \n",
       "1                          9.3             17939508        24   \n",
       "2                         12.8             32578158        23   \n",
       "3                          9.3              2545191        24   \n",
       "4                          9.3             15543512        24   \n",
       "\n",
       "  Title Publish Date (yyyy-mm-dd)    Views   Likes  Dislikes  Comments  \n",
       "0                      11/13/2017   748374   57527      2966     15954  \n",
       "1                      11/13/2017  2418783   97185      6146     12703  \n",
       "2                      11/12/2017  3191434  146033      5339      8181  \n",
       "3                      11/13/2017   343168   10172       666      2146  \n",
       "4                      11/12/2017  2095731  132235      1989     17518  "
      ]
     },
     "execution_count": 69,
     "metadata": {},
     "output_type": "execute_result"
    }
   ],
   "source": [
    "df1.head()"
   ]
  },
  {
   "cell_type": "code",
   "execution_count": 70,
   "id": "062dd249",
   "metadata": {},
   "outputs": [
    {
     "data": {
      "text/plain": [
       "4996                                        #29.  \n",
       "4997                                          -   \n",
       "4998                     / versus fresh blood 4:  \n",
       "4999                                       + 1    \n",
       "5000                                       ,      \n",
       "                           ...                    \n",
       "9495        #6     . guangzhou food festival 2017.\n",
       "9496                        volkswagen!   phaeton.\n",
       "9497                             +100500 -      ?!\n",
       "9498                                      ! ...[ ]\n",
       "9499                                    --   4  8 \n",
       "Name: Active Title Name, Length: 4504, dtype: object"
      ]
     },
     "execution_count": 70,
     "metadata": {},
     "output_type": "execute_result"
    }
   ],
   "source": [
    "df1[df1['Territory'] == 'Russia']['Active Title Name']         # Selecting title for understanding more inconsistencies"
   ]
  },
  {
   "cell_type": "code",
   "execution_count": null,
   "id": "f2db6fe4",
   "metadata": {},
   "outputs": [],
   "source": [
    "# Selecting whether string in Active Title Name column contains any special character within the contains()"
   ]
  },
  {
   "cell_type": "code",
   "execution_count": 73,
   "id": "79eedc42",
   "metadata": {},
   "outputs": [],
   "source": [
    "unwanted_characters = df1['Active Title Name'].str.contains('^[!@#$%^&*()_+={}[\\]|\\\\:;\"<,>.?/~`-]+$')"
   ]
  },
  {
   "cell_type": "code",
   "execution_count": 83,
   "id": "cd28341a",
   "metadata": {},
   "outputs": [
    {
     "data": {
      "text/plain": [
       "array([False,  True])"
      ]
     },
     "execution_count": 83,
     "metadata": {},
     "output_type": "execute_result"
    }
   ],
   "source": [
    "unwanted_characters.unique()"
   ]
  },
  {
   "cell_type": "code",
   "execution_count": 88,
   "id": "61d3fb07",
   "metadata": {},
   "outputs": [
    {
     "data": {
      "text/plain": [
       "117"
      ]
     },
     "execution_count": 88,
     "metadata": {},
     "output_type": "execute_result"
    }
   ],
   "source": [
    "unwanted_characters[unwanted_characters == True].count()"
   ]
  },
  {
   "cell_type": "code",
   "execution_count": 89,
   "id": "204acb51",
   "metadata": {},
   "outputs": [],
   "source": [
    "df1.drop(df1[unwanted_characters].index, inplace=True)     # Dropping those 117 rows"
   ]
  },
  {
   "cell_type": "code",
   "execution_count": 91,
   "id": "6087f210",
   "metadata": {},
   "outputs": [
    {
     "name": "stdout",
     "output_type": "stream",
     "text": [
      "<class 'pandas.core.frame.DataFrame'>\n",
      "Int64Index: 37845 entries, 0 to 37961\n",
      "Data columns (total 12 columns):\n",
      " #   Column                           Non-Null Count  Dtype  \n",
      "---  ------                           --------------  -----  \n",
      " 0   Total Accounts / Country         37845 non-null  int64  \n",
      " 1   Territory                        37845 non-null  object \n",
      " 2   Trending Date (yyyy-mm-dd)       37845 non-null  object \n",
      " 3   Active Title Name                37845 non-null  object \n",
      " 4   AVG Runtime Per Ctgry / min      37845 non-null  float64\n",
      " 5   Playback Time / min              37845 non-null  int64  \n",
      " 6   Category                         37845 non-null  int64  \n",
      " 7   Title Publish Date (yyyy-mm-dd)  37845 non-null  object \n",
      " 8   Views                            37845 non-null  int64  \n",
      " 9   Likes                            37845 non-null  int64  \n",
      " 10  Dislikes                         37845 non-null  int64  \n",
      " 11  Comments                         37845 non-null  int64  \n",
      "dtypes: float64(1), int64(7), object(4)\n",
      "memory usage: 3.8+ MB\n"
     ]
    }
   ],
   "source": [
    "df1.info()"
   ]
  },
  {
   "cell_type": "code",
   "execution_count": 92,
   "id": "e2d563b5",
   "metadata": {},
   "outputs": [
    {
     "data": {
      "text/plain": [
       "4996                                        #29.  \n",
       "4997                                          -   \n",
       "4998                     / versus fresh blood 4:  \n",
       "4999                                       + 1    \n",
       "5000                                       ,      \n",
       "                           ...                    \n",
       "9495        #6     . guangzhou food festival 2017.\n",
       "9496                        volkswagen!   phaeton.\n",
       "9497                             +100500 -      ?!\n",
       "9498                                      ! ...[ ]\n",
       "9499                                    --   4  8 \n",
       "Name: Active Title Name, Length: 4504, dtype: object"
      ]
     },
     "execution_count": 92,
     "metadata": {},
     "output_type": "execute_result"
    }
   ],
   "source": [
    "df1[df1['Territory'] == 'Russia']['Active Title Name']     # Selecting title for understanding more inconsistencies"
   ]
  },
  {
   "cell_type": "code",
   "execution_count": 133,
   "id": "a76acfad",
   "metadata": {},
   "outputs": [],
   "source": [
    "unwanted_characters1 = []"
   ]
  },
  {
   "cell_type": "code",
   "execution_count": null,
   "id": "a3cca840",
   "metadata": {},
   "outputs": [],
   "source": [
    "# Selecting whether string in Active Title Name column contains only special character within the match()"
   ]
  },
  {
   "cell_type": "code",
   "execution_count": 134,
   "id": "c850123a",
   "metadata": {},
   "outputs": [],
   "source": [
    "unwanted_characters1 = df1['Active Title Name'].str.match('^[!@#$%^&*()_+={}[\\]|\\\\:;\"<,>.?/~`\\\\-0-9]*$')"
   ]
  },
  {
   "cell_type": "code",
   "execution_count": 135,
   "id": "bb682bc9",
   "metadata": {},
   "outputs": [
    {
     "data": {
      "text/plain": [
       "array([False,  True])"
      ]
     },
     "execution_count": 135,
     "metadata": {},
     "output_type": "execute_result"
    }
   ],
   "source": [
    "unwanted_characters1.unique()"
   ]
  },
  {
   "cell_type": "code",
   "execution_count": 136,
   "id": "673a695c",
   "metadata": {},
   "outputs": [
    {
     "data": {
      "text/html": [
       "<div>\n",
       "<style scoped>\n",
       "    .dataframe tbody tr th:only-of-type {\n",
       "        vertical-align: middle;\n",
       "    }\n",
       "\n",
       "    .dataframe tbody tr th {\n",
       "        vertical-align: top;\n",
       "    }\n",
       "\n",
       "    .dataframe thead th {\n",
       "        text-align: right;\n",
       "    }\n",
       "</style>\n",
       "<table border=\"1\" class=\"dataframe\">\n",
       "  <thead>\n",
       "    <tr style=\"text-align: right;\">\n",
       "      <th></th>\n",
       "      <th>Total Accounts / Country</th>\n",
       "      <th>Territory</th>\n",
       "      <th>Trending Date (yyyy-mm-dd)</th>\n",
       "      <th>Active Title Name</th>\n",
       "      <th>AVG Runtime Per Ctgry / min</th>\n",
       "      <th>Playback Time / min</th>\n",
       "      <th>Category</th>\n",
       "      <th>Title Publish Date (yyyy-mm-dd)</th>\n",
       "      <th>Views</th>\n",
       "      <th>Likes</th>\n",
       "      <th>Dislikes</th>\n",
       "      <th>Comments</th>\n",
       "    </tr>\n",
       "  </thead>\n",
       "  <tbody>\n",
       "    <tr>\n",
       "      <th>5325</th>\n",
       "      <td>87290</td>\n",
       "      <td>Russia</td>\n",
       "      <td>2/17/2011</td>\n",
       "      <td>6</td>\n",
       "      <td>5.2</td>\n",
       "      <td>94443</td>\n",
       "      <td>25</td>\n",
       "      <td>11/8/2017</td>\n",
       "      <td>22774</td>\n",
       "      <td>25</td>\n",
       "      <td>1</td>\n",
       "      <td>35</td>\n",
       "    </tr>\n",
       "    <tr>\n",
       "      <th>14499</th>\n",
       "      <td>111843</td>\n",
       "      <td>Japan</td>\n",
       "      <td>1/17/2011</td>\n",
       "      <td>5</td>\n",
       "      <td>5.2</td>\n",
       "      <td>399169</td>\n",
       "      <td>25</td>\n",
       "      <td>2/6/2018</td>\n",
       "      <td>96255</td>\n",
       "      <td>1165</td>\n",
       "      <td>277</td>\n",
       "      <td>545</td>\n",
       "    </tr>\n",
       "    <tr>\n",
       "      <th>14502</th>\n",
       "      <td>111843</td>\n",
       "      <td>Japan</td>\n",
       "      <td>1/17/2011</td>\n",
       "      <td>2382201825</td>\n",
       "      <td>6.6</td>\n",
       "      <td>403294</td>\n",
       "      <td>15</td>\n",
       "      <td>2/6/2018</td>\n",
       "      <td>76621</td>\n",
       "      <td>545</td>\n",
       "      <td>16</td>\n",
       "      <td>0</td>\n",
       "    </tr>\n",
       "    <tr>\n",
       "      <th>14504</th>\n",
       "      <td>111843</td>\n",
       "      <td>Japan</td>\n",
       "      <td>1/17/2011</td>\n",
       "      <td>2!</td>\n",
       "      <td>16.6</td>\n",
       "      <td>1599528</td>\n",
       "      <td>26</td>\n",
       "      <td>2/6/2018</td>\n",
       "      <td>120824</td>\n",
       "      <td>5699</td>\n",
       "      <td>89</td>\n",
       "      <td>699</td>\n",
       "    </tr>\n",
       "    <tr>\n",
       "      <th>14516</th>\n",
       "      <td>111843</td>\n",
       "      <td>Japan</td>\n",
       "      <td>1/17/2011</td>\n",
       "      <td>2018</td>\n",
       "      <td>4.6</td>\n",
       "      <td>21332</td>\n",
       "      <td>17</td>\n",
       "      <td>2/6/2018</td>\n",
       "      <td>5815</td>\n",
       "      <td>48</td>\n",
       "      <td>19</td>\n",
       "      <td>17</td>\n",
       "    </tr>\n",
       "    <tr>\n",
       "      <th>...</th>\n",
       "      <td>...</td>\n",
       "      <td>...</td>\n",
       "      <td>...</td>\n",
       "      <td>...</td>\n",
       "      <td>...</td>\n",
       "      <td>...</td>\n",
       "      <td>...</td>\n",
       "      <td>...</td>\n",
       "      <td>...</td>\n",
       "      <td>...</td>\n",
       "      <td>...</td>\n",
       "      <td>...</td>\n",
       "    </tr>\n",
       "    <tr>\n",
       "      <th>37610</th>\n",
       "      <td>350453</td>\n",
       "      <td>Canada</td>\n",
       "      <td>7/17/2012</td>\n",
       "      <td>53</td>\n",
       "      <td>17.3</td>\n",
       "      <td>759593</td>\n",
       "      <td>22</td>\n",
       "      <td>12/5/2017</td>\n",
       "      <td>55056</td>\n",
       "      <td>27</td>\n",
       "      <td>2</td>\n",
       "      <td>5</td>\n",
       "    </tr>\n",
       "    <tr>\n",
       "      <th>37690</th>\n",
       "      <td>350453</td>\n",
       "      <td>Canada</td>\n",
       "      <td>7/17/2012</td>\n",
       "      <td>20171205264</td>\n",
       "      <td>5.2</td>\n",
       "      <td>438677</td>\n",
       "      <td>25</td>\n",
       "      <td>12/6/2017</td>\n",
       "      <td>105782</td>\n",
       "      <td>1088</td>\n",
       "      <td>85</td>\n",
       "      <td>946</td>\n",
       "    </tr>\n",
       "    <tr>\n",
       "      <th>37702</th>\n",
       "      <td>350453</td>\n",
       "      <td>Canada</td>\n",
       "      <td>7/17/2012</td>\n",
       "      <td>8.1</td>\n",
       "      <td>4.4</td>\n",
       "      <td>1043534</td>\n",
       "      <td>1</td>\n",
       "      <td>12/4/2017</td>\n",
       "      <td>297388</td>\n",
       "      <td>4776</td>\n",
       "      <td>97</td>\n",
       "      <td>756</td>\n",
       "    </tr>\n",
       "    <tr>\n",
       "      <th>37731</th>\n",
       "      <td>350453</td>\n",
       "      <td>Canada</td>\n",
       "      <td>7/17/2012</td>\n",
       "      <td>2017.12.5</td>\n",
       "      <td>5.2</td>\n",
       "      <td>196808</td>\n",
       "      <td>25</td>\n",
       "      <td>12/5/2017</td>\n",
       "      <td>47458</td>\n",
       "      <td>366</td>\n",
       "      <td>39</td>\n",
       "      <td>181</td>\n",
       "    </tr>\n",
       "    <tr>\n",
       "      <th>37952</th>\n",
       "      <td>350453</td>\n",
       "      <td>Canada</td>\n",
       "      <td>8/17/2012</td>\n",
       "      <td>20171206265</td>\n",
       "      <td>5.2</td>\n",
       "      <td>438586</td>\n",
       "      <td>25</td>\n",
       "      <td>12/6/2017</td>\n",
       "      <td>105760</td>\n",
       "      <td>860</td>\n",
       "      <td>64</td>\n",
       "      <td>537</td>\n",
       "    </tr>\n",
       "  </tbody>\n",
       "</table>\n",
       "<p>487 rows × 12 columns</p>\n",
       "</div>"
      ],
      "text/plain": [
       "       Total Accounts / Country Territory Trending Date (yyyy-mm-dd)  \\\n",
       "5325                      87290    Russia                  2/17/2011   \n",
       "14499                    111843     Japan                  1/17/2011   \n",
       "14502                    111843     Japan                  1/17/2011   \n",
       "14504                    111843     Japan                  1/17/2011   \n",
       "14516                    111843     Japan                  1/17/2011   \n",
       "...                         ...       ...                        ...   \n",
       "37610                    350453    Canada                  7/17/2012   \n",
       "37690                    350453    Canada                  7/17/2012   \n",
       "37702                    350453    Canada                  7/17/2012   \n",
       "37731                    350453    Canada                  7/17/2012   \n",
       "37952                    350453    Canada                  8/17/2012   \n",
       "\n",
       "      Active Title Name  AVG Runtime Per Ctgry / min  Playback Time / min  \\\n",
       "5325                  6                          5.2                94443   \n",
       "14499                 5                          5.2               399169   \n",
       "14502        2382201825                          6.6               403294   \n",
       "14504                2!                         16.6              1599528   \n",
       "14516              2018                          4.6                21332   \n",
       "...                 ...                          ...                  ...   \n",
       "37610                53                         17.3               759593   \n",
       "37690       20171205264                          5.2               438677   \n",
       "37702               8.1                          4.4              1043534   \n",
       "37731         2017.12.5                          5.2               196808   \n",
       "37952       20171206265                          5.2               438586   \n",
       "\n",
       "       Category Title Publish Date (yyyy-mm-dd)   Views  Likes  Dislikes  \\\n",
       "5325         25                       11/8/2017   22774     25         1   \n",
       "14499        25                        2/6/2018   96255   1165       277   \n",
       "14502        15                        2/6/2018   76621    545        16   \n",
       "14504        26                        2/6/2018  120824   5699        89   \n",
       "14516        17                        2/6/2018    5815     48        19   \n",
       "...         ...                             ...     ...    ...       ...   \n",
       "37610        22                       12/5/2017   55056     27         2   \n",
       "37690        25                       12/6/2017  105782   1088        85   \n",
       "37702         1                       12/4/2017  297388   4776        97   \n",
       "37731        25                       12/5/2017   47458    366        39   \n",
       "37952        25                       12/6/2017  105760    860        64   \n",
       "\n",
       "       Comments  \n",
       "5325         35  \n",
       "14499       545  \n",
       "14502         0  \n",
       "14504       699  \n",
       "14516        17  \n",
       "...         ...  \n",
       "37610         5  \n",
       "37690       946  \n",
       "37702       756  \n",
       "37731       181  \n",
       "37952       537  \n",
       "\n",
       "[487 rows x 12 columns]"
      ]
     },
     "execution_count": 136,
     "metadata": {},
     "output_type": "execute_result"
    }
   ],
   "source": [
    "df1[unwanted_characters1 == True]"
   ]
  },
  {
   "cell_type": "code",
   "execution_count": 138,
   "id": "654184f5",
   "metadata": {},
   "outputs": [],
   "source": [
    "df1.drop(df1[unwanted_characters1].index, inplace=True)      # dropping those 487 rows"
   ]
  },
  {
   "cell_type": "code",
   "execution_count": 139,
   "id": "d7fe86f3",
   "metadata": {},
   "outputs": [
    {
     "data": {
      "text/plain": [
       "4996                                        #29.  \n",
       "4997                                          -   \n",
       "4998                     / versus fresh blood 4:  \n",
       "4999                                       + 1    \n",
       "5000                                       ,      \n",
       "                           ...                    \n",
       "9495        #6     . guangzhou food festival 2017.\n",
       "9496                        volkswagen!   phaeton.\n",
       "9497                             +100500 -      ?!\n",
       "9498                                      ! ...[ ]\n",
       "9499                                    --   4  8 \n",
       "Name: Active Title Name, Length: 4503, dtype: object"
      ]
     },
     "execution_count": 139,
     "metadata": {},
     "output_type": "execute_result"
    }
   ],
   "source": [
    "df1[df1['Territory'] == 'Russia']['Active Title Name']"
   ]
  },
  {
   "cell_type": "code",
   "execution_count": 183,
   "id": "2176caab",
   "metadata": {},
   "outputs": [
    {
     "name": "stdout",
     "output_type": "stream",
     "text": [
      "<class 'pandas.core.frame.DataFrame'>\n",
      "Int64Index: 37358 entries, 0 to 37961\n",
      "Data columns (total 12 columns):\n",
      " #   Column                           Non-Null Count  Dtype         \n",
      "---  ------                           --------------  -----         \n",
      " 0   Total Accounts / Country         37358 non-null  int64         \n",
      " 1   Territory                        37358 non-null  object        \n",
      " 2   Trending Date (yyyy-mm-dd)       37358 non-null  object        \n",
      " 3   Active Title Name                37358 non-null  object        \n",
      " 4   AVG Runtime Per Ctgry / min      37358 non-null  float64       \n",
      " 5   Playback Time / min              37358 non-null  int64         \n",
      " 6   Category                         37358 non-null  int64         \n",
      " 7   Title Publish Date (yyyy-mm-dd)  37358 non-null  datetime64[ns]\n",
      " 8   Views                            37358 non-null  int64         \n",
      " 9   Likes                            37358 non-null  int64         \n",
      " 10  Dislikes                         37358 non-null  int64         \n",
      " 11  Comments                         37358 non-null  int64         \n",
      "dtypes: datetime64[ns](1), float64(1), int64(7), object(3)\n",
      "memory usage: 3.7+ MB\n"
     ]
    }
   ],
   "source": [
    "df1.info()"
   ]
  },
  {
   "cell_type": "code",
   "execution_count": 185,
   "id": "207b390d",
   "metadata": {},
   "outputs": [],
   "source": [
    "df1.drop('Title Publish Date (yyyy-mm-dd)', axis = 1, inplace=True)    # Dropping publish date column "
   ]
  },
  {
   "cell_type": "code",
   "execution_count": null,
   "id": "19f043b4",
   "metadata": {},
   "outputs": [],
   "source": [
    "# Changing the data type of Trending data column to datetime64"
   ]
  },
  {
   "cell_type": "code",
   "execution_count": 186,
   "id": "699844b7",
   "metadata": {},
   "outputs": [],
   "source": [
    "df1['Trending Date (yyyy-mm-dd)'] = pd.to_datetime(df1['Trending Date (yyyy-mm-dd)'])"
   ]
  },
  {
   "cell_type": "code",
   "execution_count": 189,
   "id": "8ec4e265",
   "metadata": {},
   "outputs": [
    {
     "name": "stdout",
     "output_type": "stream",
     "text": [
      "<class 'pandas.core.frame.DataFrame'>\n",
      "Int64Index: 37358 entries, 0 to 37961\n",
      "Data columns (total 11 columns):\n",
      " #   Column                       Non-Null Count  Dtype         \n",
      "---  ------                       --------------  -----         \n",
      " 0   Total Accounts / Country     37358 non-null  int64         \n",
      " 1   Territory                    37358 non-null  object        \n",
      " 2   Trending Date (yyyy-mm-dd)   37358 non-null  datetime64[ns]\n",
      " 3   Active Title Name            37358 non-null  object        \n",
      " 4   AVG Runtime Per Ctgry / min  37358 non-null  float64       \n",
      " 5   Playback Time / min          37358 non-null  int64         \n",
      " 6   Category                     37358 non-null  int64         \n",
      " 7   Views                        37358 non-null  int64         \n",
      " 8   Likes                        37358 non-null  int64         \n",
      " 9   Dislikes                     37358 non-null  int64         \n",
      " 10  Comments                     37358 non-null  int64         \n",
      "dtypes: datetime64[ns](1), float64(1), int64(7), object(2)\n",
      "memory usage: 3.4+ MB\n"
     ]
    }
   ],
   "source": [
    "df1.info()"
   ]
  },
  {
   "cell_type": "code",
   "execution_count": 197,
   "id": "185f0e56",
   "metadata": {},
   "outputs": [
    {
     "data": {
      "text/plain": [
       "array([<class 'str'>], dtype=object)"
      ]
     },
     "execution_count": 197,
     "metadata": {},
     "output_type": "execute_result"
    }
   ],
   "source": [
    "df1['Active Title Name'].apply(type).unique()"
   ]
  },
  {
   "cell_type": "code",
   "execution_count": 204,
   "id": "995be3b9",
   "metadata": {},
   "outputs": [],
   "source": [
    "unwanted_characters2 = []"
   ]
  },
  {
   "cell_type": "code",
   "execution_count": null,
   "id": "27af2505",
   "metadata": {},
   "outputs": [],
   "source": [
    "# using invert mask to select rows with no alphabets"
   ]
  },
  {
   "cell_type": "code",
   "execution_count": 205,
   "id": "334a51bd",
   "metadata": {},
   "outputs": [],
   "source": [
    "unwanted_characters2 = ~df1['Active Title Name'].str.contains('[a-zA-Z]')"
   ]
  },
  {
   "cell_type": "code",
   "execution_count": 207,
   "id": "2faf2164",
   "metadata": {},
   "outputs": [
    {
     "data": {
      "text/plain": [
       "array([False,  True])"
      ]
     },
     "execution_count": 207,
     "metadata": {},
     "output_type": "execute_result"
    }
   ],
   "source": [
    "unwanted_characters2.unique()"
   ]
  },
  {
   "cell_type": "code",
   "execution_count": 208,
   "id": "3715eaf4",
   "metadata": {},
   "outputs": [
    {
     "data": {
      "text/html": [
       "<div>\n",
       "<style scoped>\n",
       "    .dataframe tbody tr th:only-of-type {\n",
       "        vertical-align: middle;\n",
       "    }\n",
       "\n",
       "    .dataframe tbody tr th {\n",
       "        vertical-align: top;\n",
       "    }\n",
       "\n",
       "    .dataframe thead th {\n",
       "        text-align: right;\n",
       "    }\n",
       "</style>\n",
       "<table border=\"1\" class=\"dataframe\">\n",
       "  <thead>\n",
       "    <tr style=\"text-align: right;\">\n",
       "      <th></th>\n",
       "      <th>Total Accounts / Country</th>\n",
       "      <th>Territory</th>\n",
       "      <th>Trending Date (yyyy-mm-dd)</th>\n",
       "      <th>Active Title Name</th>\n",
       "      <th>AVG Runtime Per Ctgry / min</th>\n",
       "      <th>Playback Time / min</th>\n",
       "      <th>Category</th>\n",
       "      <th>Views</th>\n",
       "      <th>Likes</th>\n",
       "      <th>Dislikes</th>\n",
       "      <th>Comments</th>\n",
       "    </tr>\n",
       "  </thead>\n",
       "  <tbody>\n",
       "    <tr>\n",
       "      <th>4996</th>\n",
       "      <td>87290</td>\n",
       "      <td>Russia</td>\n",
       "      <td>2011-01-17</td>\n",
       "      <td>#29.</td>\n",
       "      <td>17.3</td>\n",
       "      <td>4553520</td>\n",
       "      <td>22</td>\n",
       "      <td>330043</td>\n",
       "      <td>43841</td>\n",
       "      <td>2244</td>\n",
       "      <td>2977</td>\n",
       "    </tr>\n",
       "    <tr>\n",
       "      <th>4997</th>\n",
       "      <td>87290</td>\n",
       "      <td>Russia</td>\n",
       "      <td>2011-01-17</td>\n",
       "      <td>-</td>\n",
       "      <td>9.3</td>\n",
       "      <td>3149122</td>\n",
       "      <td>24</td>\n",
       "      <td>424596</td>\n",
       "      <td>49854</td>\n",
       "      <td>714</td>\n",
       "      <td>2944</td>\n",
       "    </tr>\n",
       "    <tr>\n",
       "      <th>4999</th>\n",
       "      <td>87290</td>\n",
       "      <td>Russia</td>\n",
       "      <td>2011-01-17</td>\n",
       "      <td>+ 1</td>\n",
       "      <td>21.4</td>\n",
       "      <td>19316735</td>\n",
       "      <td>28</td>\n",
       "      <td>1131851</td>\n",
       "      <td>78692</td>\n",
       "      <td>2427</td>\n",
       "      <td>4114</td>\n",
       "    </tr>\n",
       "    <tr>\n",
       "      <th>5000</th>\n",
       "      <td>87290</td>\n",
       "      <td>Russia</td>\n",
       "      <td>2011-01-17</td>\n",
       "      <td>,</td>\n",
       "      <td>17.3</td>\n",
       "      <td>1338367</td>\n",
       "      <td>22</td>\n",
       "      <td>97006</td>\n",
       "      <td>2259</td>\n",
       "      <td>330</td>\n",
       "      <td>887</td>\n",
       "    </tr>\n",
       "    <tr>\n",
       "      <th>5003</th>\n",
       "      <td>87290</td>\n",
       "      <td>Russia</td>\n",
       "      <td>2011-01-17</td>\n",
       "      <td>. .</td>\n",
       "      <td>12.8</td>\n",
       "      <td>4285675</td>\n",
       "      <td>23</td>\n",
       "      <td>419835</td>\n",
       "      <td>27738</td>\n",
       "      <td>656</td>\n",
       "      <td>4681</td>\n",
       "    </tr>\n",
       "    <tr>\n",
       "      <th>...</th>\n",
       "      <td>...</td>\n",
       "      <td>...</td>\n",
       "      <td>...</td>\n",
       "      <td>...</td>\n",
       "      <td>...</td>\n",
       "      <td>...</td>\n",
       "      <td>...</td>\n",
       "      <td>...</td>\n",
       "      <td>...</td>\n",
       "      <td>...</td>\n",
       "      <td>...</td>\n",
       "    </tr>\n",
       "    <tr>\n",
       "      <th>37752</th>\n",
       "      <td>350453</td>\n",
       "      <td>Canada</td>\n",
       "      <td>2012-07-17</td>\n",
       "      <td>90  20171205 ()</td>\n",
       "      <td>5.2</td>\n",
       "      <td>559355</td>\n",
       "      <td>25</td>\n",
       "      <td>134882</td>\n",
       "      <td>341</td>\n",
       "      <td>98</td>\n",
       "      <td>933</td>\n",
       "    </tr>\n",
       "    <tr>\n",
       "      <th>37783</th>\n",
       "      <td>350453</td>\n",
       "      <td>Canada</td>\n",
       "      <td>2012-08-17</td>\n",
       "      <td>30</td>\n",
       "      <td>17.3</td>\n",
       "      <td>904970</td>\n",
       "      <td>22</td>\n",
       "      <td>65593</td>\n",
       "      <td>38</td>\n",
       "      <td>27</td>\n",
       "      <td>103</td>\n",
       "    </tr>\n",
       "    <tr>\n",
       "      <th>37908</th>\n",
       "      <td>350453</td>\n",
       "      <td>Canada</td>\n",
       "      <td>2012-08-17</td>\n",
       "      <td>-         /</td>\n",
       "      <td>17.3</td>\n",
       "      <td>17670642</td>\n",
       "      <td>22</td>\n",
       "      <td>1280783</td>\n",
       "      <td>113564</td>\n",
       "      <td>2898</td>\n",
       "      <td>16045</td>\n",
       "    </tr>\n",
       "    <tr>\n",
       "      <th>37921</th>\n",
       "      <td>350453</td>\n",
       "      <td>Canada</td>\n",
       "      <td>2012-08-17</td>\n",
       "      <td>2017.12.06</td>\n",
       "      <td>5.2</td>\n",
       "      <td>481064</td>\n",
       "      <td>25</td>\n",
       "      <td>116003</td>\n",
       "      <td>0</td>\n",
       "      <td>0</td>\n",
       "      <td>394</td>\n",
       "    </tr>\n",
       "    <tr>\n",
       "      <th>37940</th>\n",
       "      <td>350453</td>\n",
       "      <td>Canada</td>\n",
       "      <td>2012-08-17</td>\n",
       "      <td>2017 12 7 ()   -   -</td>\n",
       "      <td>5.2</td>\n",
       "      <td>421165</td>\n",
       "      <td>25</td>\n",
       "      <td>101559</td>\n",
       "      <td>797</td>\n",
       "      <td>86</td>\n",
       "      <td>276</td>\n",
       "    </tr>\n",
       "  </tbody>\n",
       "</table>\n",
       "<p>4101 rows × 11 columns</p>\n",
       "</div>"
      ],
      "text/plain": [
       "       Total Accounts / Country Territory Trending Date (yyyy-mm-dd)  \\\n",
       "4996                      87290    Russia                 2011-01-17   \n",
       "4997                      87290    Russia                 2011-01-17   \n",
       "4999                      87290    Russia                 2011-01-17   \n",
       "5000                      87290    Russia                 2011-01-17   \n",
       "5003                      87290    Russia                 2011-01-17   \n",
       "...                         ...       ...                        ...   \n",
       "37752                    350453    Canada                 2012-07-17   \n",
       "37783                    350453    Canada                 2012-08-17   \n",
       "37908                    350453    Canada                 2012-08-17   \n",
       "37921                    350453    Canada                 2012-08-17   \n",
       "37940                    350453    Canada                 2012-08-17   \n",
       "\n",
       "            Active Title Name  AVG Runtime Per Ctgry / min  \\\n",
       "4996                   #29.                           17.3   \n",
       "4997                     -                             9.3   \n",
       "4999                  + 1                             21.4   \n",
       "5000                  ,                               17.3   \n",
       "5003                     . .                          12.8   \n",
       "...                       ...                          ...   \n",
       "37752         90  20171205 ()                          5.2   \n",
       "37783                     30                          17.3   \n",
       "37908            -         /                          17.3   \n",
       "37921             2017.12.06                           5.2   \n",
       "37940  2017 12 7 ()   -   -                            5.2   \n",
       "\n",
       "       Playback Time / min  Category    Views   Likes  Dislikes  Comments  \n",
       "4996               4553520        22   330043   43841      2244      2977  \n",
       "4997               3149122        24   424596   49854       714      2944  \n",
       "4999              19316735        28  1131851   78692      2427      4114  \n",
       "5000               1338367        22    97006    2259       330       887  \n",
       "5003               4285675        23   419835   27738       656      4681  \n",
       "...                    ...       ...      ...     ...       ...       ...  \n",
       "37752               559355        25   134882     341        98       933  \n",
       "37783               904970        22    65593      38        27       103  \n",
       "37908             17670642        22  1280783  113564      2898     16045  \n",
       "37921               481064        25   116003       0         0       394  \n",
       "37940               421165        25   101559     797        86       276  \n",
       "\n",
       "[4101 rows x 11 columns]"
      ]
     },
     "execution_count": 208,
     "metadata": {},
     "output_type": "execute_result"
    }
   ],
   "source": [
    "df1[unwanted_characters2]"
   ]
  },
  {
   "cell_type": "code",
   "execution_count": 209,
   "id": "e9304a76",
   "metadata": {},
   "outputs": [],
   "source": [
    "df1.drop(df1[unwanted_characters2].index, inplace=True)   # dropping 4101 rows"
   ]
  },
  {
   "cell_type": "code",
   "execution_count": 210,
   "id": "0ac90f4c",
   "metadata": {},
   "outputs": [
    {
     "name": "stdout",
     "output_type": "stream",
     "text": [
      "<class 'pandas.core.frame.DataFrame'>\n",
      "Int64Index: 33257 entries, 0 to 37961\n",
      "Data columns (total 11 columns):\n",
      " #   Column                       Non-Null Count  Dtype         \n",
      "---  ------                       --------------  -----         \n",
      " 0   Total Accounts / Country     33257 non-null  int64         \n",
      " 1   Territory                    33257 non-null  object        \n",
      " 2   Trending Date (yyyy-mm-dd)   33257 non-null  datetime64[ns]\n",
      " 3   Active Title Name            33257 non-null  object        \n",
      " 4   AVG Runtime Per Ctgry / min  33257 non-null  float64       \n",
      " 5   Playback Time / min          33257 non-null  int64         \n",
      " 6   Category                     33257 non-null  int64         \n",
      " 7   Views                        33257 non-null  int64         \n",
      " 8   Likes                        33257 non-null  int64         \n",
      " 9   Dislikes                     33257 non-null  int64         \n",
      " 10  Comments                     33257 non-null  int64         \n",
      "dtypes: datetime64[ns](1), float64(1), int64(7), object(2)\n",
      "memory usage: 3.0+ MB\n"
     ]
    }
   ],
   "source": [
    "df1.info()"
   ]
  },
  {
   "cell_type": "code",
   "execution_count": null,
   "id": "d9c884a9",
   "metadata": {},
   "outputs": [],
   "source": [
    "# renaming inconsistent column"
   ]
  },
  {
   "cell_type": "code",
   "execution_count": 212,
   "id": "58281b84",
   "metadata": {},
   "outputs": [],
   "source": [
    "df1 = df1.rename(columns={'AVG Runtime Per Ctgry / min':'AVG Runtime Per ctgry'})"
   ]
  },
  {
   "cell_type": "code",
   "execution_count": 213,
   "id": "35974b5a",
   "metadata": {},
   "outputs": [
    {
     "name": "stdout",
     "output_type": "stream",
     "text": [
      "<class 'pandas.core.frame.DataFrame'>\n",
      "Int64Index: 33257 entries, 0 to 37961\n",
      "Data columns (total 11 columns):\n",
      " #   Column                      Non-Null Count  Dtype         \n",
      "---  ------                      --------------  -----         \n",
      " 0   Total Accounts / Country    33257 non-null  int64         \n",
      " 1   Territory                   33257 non-null  object        \n",
      " 2   Trending Date (yyyy-mm-dd)  33257 non-null  datetime64[ns]\n",
      " 3   Active Title Name           33257 non-null  object        \n",
      " 4   AVG Runtime Per ctgry       33257 non-null  float64       \n",
      " 5   Playback Time / min         33257 non-null  int64         \n",
      " 6   Category                    33257 non-null  int64         \n",
      " 7   Views                       33257 non-null  int64         \n",
      " 8   Likes                       33257 non-null  int64         \n",
      " 9   Dislikes                    33257 non-null  int64         \n",
      " 10  Comments                    33257 non-null  int64         \n",
      "dtypes: datetime64[ns](1), float64(1), int64(7), object(2)\n",
      "memory usage: 3.0+ MB\n"
     ]
    }
   ],
   "source": [
    "df1.info()"
   ]
  },
  {
   "cell_type": "code",
   "execution_count": 214,
   "id": "4b91879e",
   "metadata": {},
   "outputs": [],
   "source": [
    "df1 = df1.rename(columns={'AVG Runtime Per ctgry':'AVG Runtime Per ctgry / min', 'Total Accounts / Country':'Total Active Accounts / Country'})"
   ]
  },
  {
   "cell_type": "code",
   "execution_count": 215,
   "id": "306980a9",
   "metadata": {},
   "outputs": [
    {
     "name": "stdout",
     "output_type": "stream",
     "text": [
      "<class 'pandas.core.frame.DataFrame'>\n",
      "Int64Index: 33257 entries, 0 to 37961\n",
      "Data columns (total 11 columns):\n",
      " #   Column                           Non-Null Count  Dtype         \n",
      "---  ------                           --------------  -----         \n",
      " 0   Total Active Accounts / Country  33257 non-null  int64         \n",
      " 1   Territory                        33257 non-null  object        \n",
      " 2   Trending Date (yyyy-mm-dd)       33257 non-null  datetime64[ns]\n",
      " 3   Active Title Name                33257 non-null  object        \n",
      " 4   AVG Runtime Per ctgry / min      33257 non-null  float64       \n",
      " 5   Playback Time / min              33257 non-null  int64         \n",
      " 6   Category                         33257 non-null  int64         \n",
      " 7   Views                            33257 non-null  int64         \n",
      " 8   Likes                            33257 non-null  int64         \n",
      " 9   Dislikes                         33257 non-null  int64         \n",
      " 10  Comments                         33257 non-null  int64         \n",
      "dtypes: datetime64[ns](1), float64(1), int64(7), object(2)\n",
      "memory usage: 3.0+ MB\n"
     ]
    }
   ],
   "source": [
    "df1.info()"
   ]
  },
  {
   "cell_type": "code",
   "execution_count": 218,
   "id": "5351f82c",
   "metadata": {},
   "outputs": [],
   "source": [
    "df1.reset_index(drop=True, inplace=True)      # reindexing rows after dropping rows"
   ]
  },
  {
   "cell_type": "code",
   "execution_count": 219,
   "id": "71db164e",
   "metadata": {},
   "outputs": [
    {
     "name": "stdout",
     "output_type": "stream",
     "text": [
      "<class 'pandas.core.frame.DataFrame'>\n",
      "RangeIndex: 33257 entries, 0 to 33256\n",
      "Data columns (total 11 columns):\n",
      " #   Column                           Non-Null Count  Dtype         \n",
      "---  ------                           --------------  -----         \n",
      " 0   Total Active Accounts / Country  33257 non-null  int64         \n",
      " 1   Territory                        33257 non-null  object        \n",
      " 2   Trending Date (yyyy-mm-dd)       33257 non-null  datetime64[ns]\n",
      " 3   Active Title Name                33257 non-null  object        \n",
      " 4   AVG Runtime Per ctgry / min      33257 non-null  float64       \n",
      " 5   Playback Time / min              33257 non-null  int64         \n",
      " 6   Category                         33257 non-null  int64         \n",
      " 7   Views                            33257 non-null  int64         \n",
      " 8   Likes                            33257 non-null  int64         \n",
      " 9   Dislikes                         33257 non-null  int64         \n",
      " 10  Comments                         33257 non-null  int64         \n",
      "dtypes: datetime64[ns](1), float64(1), int64(7), object(2)\n",
      "memory usage: 2.8+ MB\n"
     ]
    }
   ],
   "source": [
    "df1.info()"
   ]
  },
  {
   "cell_type": "code",
   "execution_count": 237,
   "id": "999d6431",
   "metadata": {},
   "outputs": [],
   "source": [
    "df1.drop_duplicates(subset=['Territory','Trending Date (yyyy-mm-dd)','Active Title Name','Category'], inplace=True)"
   ]
  },
  {
   "cell_type": "code",
   "execution_count": 238,
   "id": "cf00c0f8",
   "metadata": {},
   "outputs": [
    {
     "name": "stdout",
     "output_type": "stream",
     "text": [
      "<class 'pandas.core.frame.DataFrame'>\n",
      "Int64Index: 32514 entries, 0 to 33256\n",
      "Data columns (total 11 columns):\n",
      " #   Column                           Non-Null Count  Dtype         \n",
      "---  ------                           --------------  -----         \n",
      " 0   Total Active Accounts / Country  32514 non-null  int64         \n",
      " 1   Territory                        32514 non-null  object        \n",
      " 2   Trending Date (yyyy-mm-dd)       32514 non-null  datetime64[ns]\n",
      " 3   Active Title Name                32514 non-null  object        \n",
      " 4   AVG Runtime Per ctgry / min      32514 non-null  float64       \n",
      " 5   Playback Time / min              32514 non-null  int64         \n",
      " 6   Category                         32514 non-null  int64         \n",
      " 7   Views                            32514 non-null  int64         \n",
      " 8   Likes                            32514 non-null  int64         \n",
      " 9   Dislikes                         32514 non-null  int64         \n",
      " 10  Comments                         32514 non-null  int64         \n",
      "dtypes: datetime64[ns](1), float64(1), int64(7), object(2)\n",
      "memory usage: 3.0+ MB\n"
     ]
    }
   ],
   "source": [
    "df1.info()"
   ]
  },
  {
   "cell_type": "code",
   "execution_count": 239,
   "id": "110ff5b2",
   "metadata": {},
   "outputs": [],
   "source": [
    "df1.reset_index(drop=True, inplace=True)"
   ]
  },
  {
   "cell_type": "code",
   "execution_count": 244,
   "id": "75baa783",
   "metadata": {},
   "outputs": [
    {
     "data": {
      "text/html": [
       "<div>\n",
       "<style scoped>\n",
       "    .dataframe tbody tr th:only-of-type {\n",
       "        vertical-align: middle;\n",
       "    }\n",
       "\n",
       "    .dataframe tbody tr th {\n",
       "        vertical-align: top;\n",
       "    }\n",
       "\n",
       "    .dataframe thead th {\n",
       "        text-align: right;\n",
       "    }\n",
       "</style>\n",
       "<table border=\"1\" class=\"dataframe\">\n",
       "  <thead>\n",
       "    <tr style=\"text-align: right;\">\n",
       "      <th></th>\n",
       "      <th>Total Active Accounts / Country</th>\n",
       "      <th>Territory</th>\n",
       "      <th>Trending Date (yyyy-mm-dd)</th>\n",
       "      <th>Active Title Name</th>\n",
       "      <th>AVG Runtime Per ctgry / min</th>\n",
       "      <th>Playback Time / min</th>\n",
       "      <th>Category</th>\n",
       "      <th>Views</th>\n",
       "      <th>Likes</th>\n",
       "      <th>Dislikes</th>\n",
       "      <th>Comments</th>\n",
       "    </tr>\n",
       "  </thead>\n",
       "  <tbody>\n",
       "    <tr>\n",
       "      <th>0</th>\n",
       "      <td>326113</td>\n",
       "      <td>America</td>\n",
       "      <td>2011-01-17</td>\n",
       "      <td>We want to talk about our marriage</td>\n",
       "      <td>17.3</td>\n",
       "      <td>10325128</td>\n",
       "      <td>22</td>\n",
       "      <td>748374</td>\n",
       "      <td>57527</td>\n",
       "      <td>2966</td>\n",
       "      <td>15954</td>\n",
       "    </tr>\n",
       "    <tr>\n",
       "      <th>1</th>\n",
       "      <td>326113</td>\n",
       "      <td>America</td>\n",
       "      <td>2011-01-17</td>\n",
       "      <td>The trump presidency: last week tonight with j...</td>\n",
       "      <td>9.3</td>\n",
       "      <td>17939508</td>\n",
       "      <td>24</td>\n",
       "      <td>2418783</td>\n",
       "      <td>97185</td>\n",
       "      <td>6146</td>\n",
       "      <td>12703</td>\n",
       "    </tr>\n",
       "    <tr>\n",
       "      <th>2</th>\n",
       "      <td>326113</td>\n",
       "      <td>America</td>\n",
       "      <td>2011-01-17</td>\n",
       "      <td>Racist superman | rudy mancuso, king bach &amp; le...</td>\n",
       "      <td>12.8</td>\n",
       "      <td>32578158</td>\n",
       "      <td>23</td>\n",
       "      <td>3191434</td>\n",
       "      <td>146033</td>\n",
       "      <td>5339</td>\n",
       "      <td>8181</td>\n",
       "    </tr>\n",
       "    <tr>\n",
       "      <th>3</th>\n",
       "      <td>326113</td>\n",
       "      <td>America</td>\n",
       "      <td>2011-01-17</td>\n",
       "      <td>Nickelback lyrics: real or fake?</td>\n",
       "      <td>9.3</td>\n",
       "      <td>2545191</td>\n",
       "      <td>24</td>\n",
       "      <td>343168</td>\n",
       "      <td>10172</td>\n",
       "      <td>666</td>\n",
       "      <td>2146</td>\n",
       "    </tr>\n",
       "    <tr>\n",
       "      <th>4</th>\n",
       "      <td>326113</td>\n",
       "      <td>America</td>\n",
       "      <td>2011-01-17</td>\n",
       "      <td>I dare you: going bald!?</td>\n",
       "      <td>9.3</td>\n",
       "      <td>15543512</td>\n",
       "      <td>24</td>\n",
       "      <td>2095731</td>\n",
       "      <td>132235</td>\n",
       "      <td>1989</td>\n",
       "      <td>17518</td>\n",
       "    </tr>\n",
       "    <tr>\n",
       "      <th>...</th>\n",
       "      <td>...</td>\n",
       "      <td>...</td>\n",
       "      <td>...</td>\n",
       "      <td>...</td>\n",
       "      <td>...</td>\n",
       "      <td>...</td>\n",
       "      <td>...</td>\n",
       "      <td>...</td>\n",
       "      <td>...</td>\n",
       "      <td>...</td>\n",
       "      <td>...</td>\n",
       "    </tr>\n",
       "    <tr>\n",
       "      <th>32509</th>\n",
       "      <td>350453</td>\n",
       "      <td>Canada</td>\n",
       "      <td>2012-09-17</td>\n",
       "      <td>Youtube rewind: the shape of 2017 | #youtubere...</td>\n",
       "      <td>9.3</td>\n",
       "      <td>632331875</td>\n",
       "      <td>24</td>\n",
       "      <td>75969469</td>\n",
       "      <td>2251826</td>\n",
       "      <td>1127811</td>\n",
       "      <td>827755</td>\n",
       "    </tr>\n",
       "    <tr>\n",
       "      <th>32510</th>\n",
       "      <td>350453</td>\n",
       "      <td>Canada</td>\n",
       "      <td>2012-09-17</td>\n",
       "      <td>Why i'm not in youtube rewind 2017</td>\n",
       "      <td>12.8</td>\n",
       "      <td>70394653</td>\n",
       "      <td>23</td>\n",
       "      <td>6896028</td>\n",
       "      <td>513555</td>\n",
       "      <td>9505</td>\n",
       "      <td>64656</td>\n",
       "    </tr>\n",
       "    <tr>\n",
       "      <th>32511</th>\n",
       "      <td>350453</td>\n",
       "      <td>Canada</td>\n",
       "      <td>2012-09-17</td>\n",
       "      <td>Migos, nicki minaj, cardi b - motorsport</td>\n",
       "      <td>7.2</td>\n",
       "      <td>25920949</td>\n",
       "      <td>10</td>\n",
       "      <td>4514272</td>\n",
       "      <td>238398</td>\n",
       "      <td>9020</td>\n",
       "      <td>35027</td>\n",
       "    </tr>\n",
       "    <tr>\n",
       "      <th>32512</th>\n",
       "      <td>350453</td>\n",
       "      <td>Canada</td>\n",
       "      <td>2012-09-17</td>\n",
       "      <td>Logic solves a rubik's cube while eating spicy...</td>\n",
       "      <td>16.6</td>\n",
       "      <td>33599048</td>\n",
       "      <td>26</td>\n",
       "      <td>2537980</td>\n",
       "      <td>149013</td>\n",
       "      <td>2930</td>\n",
       "      <td>18632</td>\n",
       "    </tr>\n",
       "    <tr>\n",
       "      <th>32513</th>\n",
       "      <td>350453</td>\n",
       "      <td>Canada</td>\n",
       "      <td>2012-09-17</td>\n",
       "      <td>2017 youtube rewind rant! (diss track?)</td>\n",
       "      <td>9.3</td>\n",
       "      <td>12585839</td>\n",
       "      <td>24</td>\n",
       "      <td>1696948</td>\n",
       "      <td>196533</td>\n",
       "      <td>11937</td>\n",
       "      <td>56255</td>\n",
       "    </tr>\n",
       "  </tbody>\n",
       "</table>\n",
       "<p>32514 rows × 11 columns</p>\n",
       "</div>"
      ],
      "text/plain": [
       "       Total Active Accounts / Country Territory Trending Date (yyyy-mm-dd)  \\\n",
       "0                               326113   America                 2011-01-17   \n",
       "1                               326113   America                 2011-01-17   \n",
       "2                               326113   America                 2011-01-17   \n",
       "3                               326113   America                 2011-01-17   \n",
       "4                               326113   America                 2011-01-17   \n",
       "...                                ...       ...                        ...   \n",
       "32509                           350453    Canada                 2012-09-17   \n",
       "32510                           350453    Canada                 2012-09-17   \n",
       "32511                           350453    Canada                 2012-09-17   \n",
       "32512                           350453    Canada                 2012-09-17   \n",
       "32513                           350453    Canada                 2012-09-17   \n",
       "\n",
       "                                       Active Title Name  \\\n",
       "0                     We want to talk about our marriage   \n",
       "1      The trump presidency: last week tonight with j...   \n",
       "2      Racist superman | rudy mancuso, king bach & le...   \n",
       "3                       Nickelback lyrics: real or fake?   \n",
       "4                               I dare you: going bald!?   \n",
       "...                                                  ...   \n",
       "32509  Youtube rewind: the shape of 2017 | #youtubere...   \n",
       "32510                 Why i'm not in youtube rewind 2017   \n",
       "32511           Migos, nicki minaj, cardi b - motorsport   \n",
       "32512  Logic solves a rubik's cube while eating spicy...   \n",
       "32513            2017 youtube rewind rant! (diss track?)   \n",
       "\n",
       "       AVG Runtime Per ctgry / min  Playback Time / min  Category     Views  \\\n",
       "0                             17.3             10325128        22    748374   \n",
       "1                              9.3             17939508        24   2418783   \n",
       "2                             12.8             32578158        23   3191434   \n",
       "3                              9.3              2545191        24    343168   \n",
       "4                              9.3             15543512        24   2095731   \n",
       "...                            ...                  ...       ...       ...   \n",
       "32509                          9.3            632331875        24  75969469   \n",
       "32510                         12.8             70394653        23   6896028   \n",
       "32511                          7.2             25920949        10   4514272   \n",
       "32512                         16.6             33599048        26   2537980   \n",
       "32513                          9.3             12585839        24   1696948   \n",
       "\n",
       "         Likes  Dislikes  Comments  \n",
       "0        57527      2966     15954  \n",
       "1        97185      6146     12703  \n",
       "2       146033      5339      8181  \n",
       "3        10172       666      2146  \n",
       "4       132235      1989     17518  \n",
       "...        ...       ...       ...  \n",
       "32509  2251826   1127811    827755  \n",
       "32510   513555      9505     64656  \n",
       "32511   238398      9020     35027  \n",
       "32512   149013      2930     18632  \n",
       "32513   196533     11937     56255  \n",
       "\n",
       "[32514 rows x 11 columns]"
      ]
     },
     "execution_count": 244,
     "metadata": {},
     "output_type": "execute_result"
    }
   ],
   "source": [
    "df1"
   ]
  },
  {
   "cell_type": "code",
   "execution_count": 245,
   "id": "77277112",
   "metadata": {},
   "outputs": [],
   "source": [
    "df1.to_csv('Final_cleansed_video_analysis.csv')"
   ]
  }
 ],
 "metadata": {
  "kernelspec": {
   "display_name": "Python 3 (ipykernel)",
   "language": "python",
   "name": "python3"
  },
  "language_info": {
   "codemirror_mode": {
    "name": "ipython",
    "version": 3
   },
   "file_extension": ".py",
   "mimetype": "text/x-python",
   "name": "python",
   "nbconvert_exporter": "python",
   "pygments_lexer": "ipython3",
   "version": "3.9.12"
  }
 },
 "nbformat": 4,
 "nbformat_minor": 5
}
