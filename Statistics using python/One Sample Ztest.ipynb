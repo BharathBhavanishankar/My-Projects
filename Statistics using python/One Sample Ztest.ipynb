{
 "cells": [
  {
   "cell_type": "markdown",
   "id": "24da60d8",
   "metadata": {},
   "source": [
    "# ONE SAMPLE Z TEST"
   ]
  },
  {
   "cell_type": "code",
   "execution_count": 1,
   "id": "14c7ffe9",
   "metadata": {},
   "outputs": [],
   "source": [
    "from scipy import stats\n",
    "import pandas as pd\n",
    "import numpy as np\n",
    "import math\n",
    "import matplotlib.pyplot as plt\n",
    "import seaborn as sns\n",
    "from statsmodels.stats import weightstats\n",
    "import scipy"
   ]
  },
  {
   "cell_type": "code",
   "execution_count": 2,
   "id": "a8fd3660",
   "metadata": {},
   "outputs": [],
   "source": [
    "sampledata = pd.read_csv('C:\\\\Users\\\\bhara\\\\Python\\\\Piece_Dim1.csv')   # importing sample data"
   ]
  },
  {
   "cell_type": "code",
   "execution_count": 3,
   "id": "7f0bf6d5",
   "metadata": {},
   "outputs": [
    {
     "data": {
      "text/html": [
       "<div>\n",
       "<style scoped>\n",
       "    .dataframe tbody tr th:only-of-type {\n",
       "        vertical-align: middle;\n",
       "    }\n",
       "\n",
       "    .dataframe tbody tr th {\n",
       "        vertical-align: top;\n",
       "    }\n",
       "\n",
       "    .dataframe thead th {\n",
       "        text-align: right;\n",
       "    }\n",
       "</style>\n",
       "<table border=\"1\" class=\"dataframe\">\n",
       "  <thead>\n",
       "    <tr style=\"text-align: right;\">\n",
       "      <th></th>\n",
       "      <th>Item_No</th>\n",
       "      <th>Length</th>\n",
       "      <th>Width</th>\n",
       "      <th>Height</th>\n",
       "      <th>Operator</th>\n",
       "    </tr>\n",
       "  </thead>\n",
       "  <tbody>\n",
       "    <tr>\n",
       "      <th>0</th>\n",
       "      <td>Item-1</td>\n",
       "      <td>102.67</td>\n",
       "      <td>49.53</td>\n",
       "      <td>19.69</td>\n",
       "      <td>Op-1</td>\n",
       "    </tr>\n",
       "    <tr>\n",
       "      <th>1</th>\n",
       "      <td>Item-2</td>\n",
       "      <td>102.50</td>\n",
       "      <td>51.42</td>\n",
       "      <td>19.63</td>\n",
       "      <td>Op-1</td>\n",
       "    </tr>\n",
       "    <tr>\n",
       "      <th>2</th>\n",
       "      <td>Item-3</td>\n",
       "      <td>95.37</td>\n",
       "      <td>52.25</td>\n",
       "      <td>21.51</td>\n",
       "      <td>Op-1</td>\n",
       "    </tr>\n",
       "  </tbody>\n",
       "</table>\n",
       "</div>"
      ],
      "text/plain": [
       "  Item_No  Length  Width  Height Operator\n",
       "0  Item-1  102.67  49.53   19.69     Op-1\n",
       "1  Item-2  102.50  51.42   19.63     Op-1\n",
       "2  Item-3   95.37  52.25   21.51     Op-1"
      ]
     },
     "execution_count": 3,
     "metadata": {},
     "output_type": "execute_result"
    }
   ],
   "source": [
    "sampledata.head(3)"
   ]
  },
  {
   "cell_type": "markdown",
   "id": "00e0f542",
   "metadata": {},
   "source": [
    "### Correlation"
   ]
  },
  {
   "cell_type": "code",
   "execution_count": 4,
   "id": "b6bb6950",
   "metadata": {},
   "outputs": [
    {
     "data": {
      "text/html": [
       "<div>\n",
       "<style scoped>\n",
       "    .dataframe tbody tr th:only-of-type {\n",
       "        vertical-align: middle;\n",
       "    }\n",
       "\n",
       "    .dataframe tbody tr th {\n",
       "        vertical-align: top;\n",
       "    }\n",
       "\n",
       "    .dataframe thead th {\n",
       "        text-align: right;\n",
       "    }\n",
       "</style>\n",
       "<table border=\"1\" class=\"dataframe\">\n",
       "  <thead>\n",
       "    <tr style=\"text-align: right;\">\n",
       "      <th></th>\n",
       "      <th>Length</th>\n",
       "      <th>Width</th>\n",
       "      <th>Height</th>\n",
       "    </tr>\n",
       "  </thead>\n",
       "  <tbody>\n",
       "    <tr>\n",
       "      <th>Length</th>\n",
       "      <td>1.000000</td>\n",
       "      <td>0.046386</td>\n",
       "      <td>0.005650</td>\n",
       "    </tr>\n",
       "    <tr>\n",
       "      <th>Width</th>\n",
       "      <td>0.046386</td>\n",
       "      <td>1.000000</td>\n",
       "      <td>-0.021132</td>\n",
       "    </tr>\n",
       "    <tr>\n",
       "      <th>Height</th>\n",
       "      <td>0.005650</td>\n",
       "      <td>-0.021132</td>\n",
       "      <td>1.000000</td>\n",
       "    </tr>\n",
       "  </tbody>\n",
       "</table>\n",
       "</div>"
      ],
      "text/plain": [
       "          Length     Width    Height\n",
       "Length  1.000000  0.046386  0.005650\n",
       "Width   0.046386  1.000000 -0.021132\n",
       "Height  0.005650 -0.021132  1.000000"
      ]
     },
     "execution_count": 4,
     "metadata": {},
     "output_type": "execute_result"
    }
   ],
   "source": [
    "sampledata.corr(method='pearson')"
   ]
  },
  {
   "cell_type": "code",
   "execution_count": null,
   "id": "d1e7010a",
   "metadata": {},
   "outputs": [],
   "source": [
    "# from the above correlation, findings are as follows\n",
    "# 1.  Length to Width and Length to Height are directly proportional\n",
    "# 2.  Width to Length is directly proportional and Width to Height is inversely proportional\n",
    "# 3.  Height to Length is directly proportional and Height to Width is inversely proportional"
   ]
  },
  {
   "cell_type": "code",
   "execution_count": 5,
   "id": "5e242b20",
   "metadata": {},
   "outputs": [],
   "source": [
    "pop_std = np.std(sampledata['Length'])  # considering sampledata['Length'] \n",
    "                                        # as population and population standard deviation is calculated"
   ]
  },
  {
   "cell_type": "code",
   "execution_count": 6,
   "id": "78177881",
   "metadata": {},
   "outputs": [
    {
     "data": {
      "text/plain": [
       "5.024581033280287"
      ]
     },
     "execution_count": 6,
     "metadata": {},
     "output_type": "execute_result"
    }
   ],
   "source": [
    "pop_std"
   ]
  },
  {
   "cell_type": "code",
   "execution_count": 7,
   "id": "3c3ef99c",
   "metadata": {},
   "outputs": [],
   "source": [
    "pop_mean = np.mean(sampledata['Length'])  # calculating population mean"
   ]
  },
  {
   "cell_type": "code",
   "execution_count": 8,
   "id": "6e0af341",
   "metadata": {},
   "outputs": [
    {
     "data": {
      "text/plain": [
       "100.12880000000001"
      ]
     },
     "execution_count": 8,
     "metadata": {},
     "output_type": "execute_result"
    }
   ],
   "source": [
    "pop_mean"
   ]
  },
  {
   "cell_type": "code",
   "execution_count": 9,
   "id": "1595b551",
   "metadata": {},
   "outputs": [
    {
     "data": {
      "text/plain": [
       "105.1533810332803"
      ]
     },
     "execution_count": 9,
     "metadata": {},
     "output_type": "execute_result"
    }
   ],
   "source": [
    "pop_mean + pop_std        # calculating 1 sigma"
   ]
  },
  {
   "cell_type": "markdown",
   "id": "ec66d3c0",
   "metadata": {},
   "source": [
    "### Distribution of the population"
   ]
  },
  {
   "cell_type": "code",
   "execution_count": null,
   "id": "7e3dea62",
   "metadata": {},
   "outputs": [],
   "source": [
    "# Visualizing the distribution of sampledata and mapping mean and 3 sigma (showing 99.97% of data coverage)"
   ]
  },
  {
   "cell_type": "code",
   "execution_count": 82,
   "id": "ff49c88d",
   "metadata": {},
   "outputs": [
    {
     "data": {
      "image/png": "[encoded data removed]",
      "text/plain": [
       "<Figure size 360x360 with 1 Axes>"
      ]
     },
     "metadata": {
      "needs_background": "light"
     },
     "output_type": "display_data"
    }
   ],
   "source": [
    "sns.displot(data=sampledata['Length'], kind = 'kde')\n",
    "plt.vlines(x = 100.128, ymax= 0.065, ymin=0, colors='green')\n",
    "plt.vlines(x = pop_mean - 3 * pop_std, ymax= 0.065, ymin=0, colors='red')\n",
    "plt.vlines(x = pop_mean + 3 * pop_std, ymax= 0.065, ymin=0, colors='red')\n",
    "plt.text(x=pop_mean, y=0.065, s='µ0 = 100.128')\n",
    "plt.text(x= (pop_mean - 3 * pop_std), y=0.065, s='-3σ = 95.104')\n",
    "plt.text(x= (pop_mean + 3 * pop_std), y=0.065, s='3σ = 105.153')\n",
    "plt.show()"
   ]
  },
  {
   "cell_type": "code",
   "execution_count": 19,
   "id": "debef16d",
   "metadata": {},
   "outputs": [],
   "source": [
    "sample = sampledata['Length'][0:50]"
   ]
  },
  {
   "cell_type": "code",
   "execution_count": 25,
   "id": "0eaf14c2",
   "metadata": {},
   "outputs": [
    {
     "data": {
      "text/plain": [
       "0    102.67\n",
       "1    102.50\n",
       "2     95.37\n",
       "3     94.77\n",
       "4    104.26\n",
       "Name: Length, dtype: float64"
      ]
     },
     "execution_count": 25,
     "metadata": {},
     "output_type": "execute_result"
    }
   ],
   "source": [
    "sample.head()"
   ]
  },
  {
   "cell_type": "code",
   "execution_count": 20,
   "id": "550ced9b",
   "metadata": {},
   "outputs": [],
   "source": [
    "sample_head = sample              # taking sample more than 30 by slicing to apply Z statistics\n",
    "sample_head_avg = np.mean(sample_head)   # taking average of the sample"
   ]
  },
  {
   "cell_type": "code",
   "execution_count": 21,
   "id": "9aa4a202",
   "metadata": {},
   "outputs": [],
   "source": [
    "conf_int = []                            # creating variable to store confidence interval"
   ]
  },
  {
   "cell_type": "code",
   "execution_count": 23,
   "id": "1cd5a637",
   "metadata": {},
   "outputs": [],
   "source": [
    "for i in sample_head:\n",
    "    z_statistic = stats.norm.pdf(0.025)  #  using probability density function since it is two sided testing\n",
    "    stand_error = pop_std / math.sqrt(len(sample_head))\n",
    "    marg_error = z_statistic * stand_error\n",
    "    interval = (sample_head_avg - marg_error, sample_head_avg + marg_error) # finding confidence interval\n",
    "    conf_int.append(interval)"
   ]
  },
  {
   "cell_type": "markdown",
   "id": "42b3a68e",
   "metadata": {},
   "source": [
    "###  Visualizing Confidence Interval Distribution"
   ]
  },
  {
   "cell_type": "code",
   "execution_count": 24,
   "id": "8b15be58",
   "metadata": {},
   "outputs": [
    {
     "data": {
      "image/png": "[encoded data removed]",
      "text/plain": [
       "<Figure size 648x648 with 1 Axes>"
      ]
     },
     "metadata": {
      "needs_background": "light"
     },
     "output_type": "display_data"
    }
   ],
   "source": [
    "plt.figure(figsize=(9,9))\n",
    "\n",
    "plt.errorbar(y = np.arange(0,50,1),\n",
    "             x = sample_head,\n",
    "             xerr=[(top - bot)/2 for top, bot in conf_int],\n",
    "             fmt = 'o')\n",
    "\n",
    "plt.vlines(x = 100.128,\n",
    "           ymax= 50,\n",
    "           ymin = 0,\n",
    "           colors= 'green',\n",
    "           linewidth = 2.0)\n",
    "\n",
    "plt.xlabel('Length')\n",
    "plt.ylabel('Samples')\n",
    "plt.title('Confidence Interval')\n",
    "plt.show()"
   ]
  },
  {
   "cell_type": "code",
   "execution_count": 22,
   "id": "2e681809",
   "metadata": {},
   "outputs": [],
   "source": [
    "for i in range(500):\n",
    "    random_select = np.random.choice(sampledata['Length'], size=100)\n",
    "    random_mean = random_select.mean()\n",
    "    sample.append(random_mean)"
   ]
  },
  {
   "cell_type": "markdown",
   "id": "12ba7a84",
   "metadata": {},
   "source": [
    "### Hypothesis\n",
    "\n",
    "Ho: sample mean = population mean\n",
    "Ha: sample mean != population mean"
   ]
  },
  {
   "cell_type": "markdown",
   "id": "70135aeb",
   "metadata": {},
   "source": [
    "### Distribution of the sample"
   ]
  },
  {
   "cell_type": "code",
   "execution_count": 23,
   "id": "fdb1ccf4",
   "metadata": {},
   "outputs": [
    {
     "data": {
      "image/png": "[encoded data removed]",
      "text/plain": [
       "<Figure size 360x360 with 1 Axes>"
      ]
     },
     "metadata": {
      "needs_background": "light"
     },
     "output_type": "display_data"
    }
   ],
   "source": [
    "sns.displot(x=sample, kind='kde')\n",
    "plt.show()"
   ]
  },
  {
   "cell_type": "code",
   "execution_count": 24,
   "id": "39e3b465",
   "metadata": {},
   "outputs": [],
   "source": [
    "zteststats = weightstats.ztest(x1=sample, value=pop_mean, alternative='two-sided')"
   ]
  },
  {
   "cell_type": "code",
   "execution_count": 25,
   "id": "84946e97",
   "metadata": {},
   "outputs": [
    {
     "data": {
      "text/plain": [
       "(0.01666526557103562, 0.9867036573699653)"
      ]
     },
     "execution_count": 25,
     "metadata": {},
     "output_type": "execute_result"
    }
   ],
   "source": [
    "zteststats           # z statistical value in 0.016 and p value is 0.98"
   ]
  },
  {
   "cell_type": "code",
   "execution_count": 31,
   "id": "d2f7f007",
   "metadata": {},
   "outputs": [
    {
     "data": {
      "text/plain": [
       "1.9599639845400545"
      ]
     },
     "execution_count": 31,
     "metadata": {},
     "output_type": "execute_result"
    }
   ],
   "source": [
    "stats.norm.isf(0.025)   # calculating positive critical value"
   ]
  },
  {
   "cell_type": "code",
   "execution_count": 32,
   "id": "9b21d27d",
   "metadata": {},
   "outputs": [
    {
     "data": {
      "text/plain": [
       "-1.9599639845400545"
      ]
     },
     "execution_count": 32,
     "metadata": {},
     "output_type": "execute_result"
    }
   ],
   "source": [
    "stats.norm.ppf(0.025)   # calculating negative critical value"
   ]
  },
  {
   "cell_type": "code",
   "execution_count": 34,
   "id": "b5ecfd40",
   "metadata": {},
   "outputs": [],
   "source": [
    "xax = np.linspace(-3, 3)\n",
    "yax = stats.norm.pdf(xax)"
   ]
  },
  {
   "cell_type": "markdown",
   "id": "c8326ff1",
   "metadata": {},
   "source": [
    "### Critical and Test statistics distribution"
   ]
  },
  {
   "cell_type": "code",
   "execution_count": 46,
   "id": "183153a0",
   "metadata": {},
   "outputs": [
    {
     "data": {
      "image/png": "[encoded data removed]",
      "text/plain": [
       "<Figure size 360x360 with 1 Axes>"
      ]
     },
     "metadata": {
      "needs_background": "light"
     },
     "output_type": "display_data"
    }
   ],
   "source": [
    "sns.relplot(x=xax, y=yax, kind='line')\n",
    "plt.vlines(x=-1.959, ymax=0.40, ymin = 0, colors='green')\n",
    "plt.vlines(x=1.959, ymax=0.40, ymin = 0, colors='green')\n",
    "plt.vlines(x=0.016, ymax=0.40, ymin = 0, colors='red')\n",
    "plt.text(x=-1.959, y=0.40, s='-1.959')\n",
    "plt.text(x=1.959, y=0.40, s='1.959')\n",
    "plt.text(x=0.016, y=0.40, s='0.016')\n",
    "plt.title('One sample Z test')\n",
    "plt.show()"
   ]
  },
  {
   "cell_type": "code",
   "execution_count": null,
   "id": "8991e12a",
   "metadata": {},
   "outputs": [],
   "source": [
    "# As the z statistical value 0.016 therefore we failed to reject null hypothesis\n",
    "# therefore the sample mean is same as the population mean of 'Length'"
   ]
  }
 ],
 "metadata": {
  "kernelspec": {
   "display_name": "Python 3 (ipykernel)",
   "language": "python",
   "name": "python3"
  },
  "language_info": {
   "codemirror_mode": {
    "name": "ipython",
    "version": 3
   },
   "file_extension": ".py",
   "mimetype": "text/x-python",
   "name": "python",
   "nbconvert_exporter": "python",
   "pygments_lexer": "ipython3",
   "version": "3.9.12"
  }
 },
 "nbformat": 4,
 "nbformat_minor": 5
}
