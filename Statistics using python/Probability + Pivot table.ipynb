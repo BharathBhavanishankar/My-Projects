{
 "cells": [
  {
   "cell_type": "markdown",
   "id": "2293996b",
   "metadata": {},
   "source": [
    "# CONDITIONAL PROBABILITY USING PIVOT TABLE"
   ]
  },
  {
   "cell_type": "code",
   "execution_count": 90,
   "id": "e80536c5",
   "metadata": {},
   "outputs": [],
   "source": [
    "import pandas as pd\n",
    "import numpy as np"
   ]
  },
  {
   "cell_type": "markdown",
   "id": "cab44011",
   "metadata": {},
   "source": [
    "## what is the probability P(A|B), i.e Length >= 100 and Width >= 50 by Operator 1?"
   ]
  },
  {
   "cell_type": "code",
   "execution_count": 92,
   "id": "f32f38fe",
   "metadata": {},
   "outputs": [],
   "source": [
    "df = pd.read_csv('C:\\\\Users\\\\bhara\\\\Python\\\\Piece_Dim1.csv')       # reading csv"
   ]
  },
  {
   "cell_type": "code",
   "execution_count": 93,
   "id": "c84f8527",
   "metadata": {},
   "outputs": [],
   "source": [
    "df['A'] = np.where((df['Length'] >= 100) & (df['Operator'] == 'Op-1'), 1, 0)  # filtering len gtr than 100 for op-1, true are 1, else 0 "
   ]
  },
  {
   "cell_type": "code",
   "execution_count": 71,
   "id": "28d39b76",
   "metadata": {},
   "outputs": [],
   "source": [
    "df['B'] = np.where((df['Width'] >= 50) & (df['Operator'] == 'Op-1'), 1, 0)"
   ]
  },
  {
   "cell_type": "code",
   "execution_count": 72,
   "id": "c559bc0d",
   "metadata": {},
   "outputs": [],
   "source": [
    "df['count'] = 1      # dummy array count is created "
   ]
  },
  {
   "cell_type": "code",
   "execution_count": 73,
   "id": "846e650a",
   "metadata": {},
   "outputs": [],
   "source": [
    "pt = df[['A','B','count']]    # masking"
   ]
  },
  {
   "cell_type": "code",
   "execution_count": 74,
   "id": "e95aae25",
   "metadata": {},
   "outputs": [
    {
     "data": {
      "text/html": [
       "<div>\n",
       "<style scoped>\n",
       "    .dataframe tbody tr th:only-of-type {\n",
       "        vertical-align: middle;\n",
       "    }\n",
       "\n",
       "    .dataframe tbody tr th {\n",
       "        vertical-align: top;\n",
       "    }\n",
       "\n",
       "    .dataframe thead th {\n",
       "        text-align: right;\n",
       "    }\n",
       "</style>\n",
       "<table border=\"1\" class=\"dataframe\">\n",
       "  <thead>\n",
       "    <tr style=\"text-align: right;\">\n",
       "      <th></th>\n",
       "      <th>A</th>\n",
       "      <th>B</th>\n",
       "      <th>count</th>\n",
       "    </tr>\n",
       "  </thead>\n",
       "  <tbody>\n",
       "    <tr>\n",
       "      <th>0</th>\n",
       "      <td>1</td>\n",
       "      <td>0</td>\n",
       "      <td>1</td>\n",
       "    </tr>\n",
       "    <tr>\n",
       "      <th>1</th>\n",
       "      <td>1</td>\n",
       "      <td>1</td>\n",
       "      <td>1</td>\n",
       "    </tr>\n",
       "    <tr>\n",
       "      <th>2</th>\n",
       "      <td>0</td>\n",
       "      <td>1</td>\n",
       "      <td>1</td>\n",
       "    </tr>\n",
       "    <tr>\n",
       "      <th>3</th>\n",
       "      <td>0</td>\n",
       "      <td>0</td>\n",
       "      <td>1</td>\n",
       "    </tr>\n",
       "    <tr>\n",
       "      <th>4</th>\n",
       "      <td>1</td>\n",
       "      <td>0</td>\n",
       "      <td>1</td>\n",
       "    </tr>\n",
       "  </tbody>\n",
       "</table>\n",
       "</div>"
      ],
      "text/plain": [
       "   A  B  count\n",
       "0  1  0      1\n",
       "1  1  1      1\n",
       "2  0  1      1\n",
       "3  0  0      1\n",
       "4  1  0      1"
      ]
     },
     "execution_count": 74,
     "metadata": {},
     "output_type": "execute_result"
    }
   ],
   "source": [
    "pt.head()         "
   ]
  },
  {
   "cell_type": "code",
   "execution_count": 83,
   "id": "f44dae77",
   "metadata": {},
   "outputs": [
    {
     "data": {
      "text/html": [
       "<div>\n",
       "<style scoped>\n",
       "    .dataframe tbody tr th:only-of-type {\n",
       "        vertical-align: middle;\n",
       "    }\n",
       "\n",
       "    .dataframe tbody tr th {\n",
       "        vertical-align: top;\n",
       "    }\n",
       "\n",
       "    .dataframe thead th {\n",
       "        text-align: right;\n",
       "    }\n",
       "</style>\n",
       "<table border=\"1\" class=\"dataframe\">\n",
       "  <thead>\n",
       "    <tr style=\"text-align: right;\">\n",
       "      <th>B</th>\n",
       "      <th>0</th>\n",
       "      <th>1</th>\n",
       "    </tr>\n",
       "    <tr>\n",
       "      <th>A</th>\n",
       "      <th></th>\n",
       "      <th></th>\n",
       "    </tr>\n",
       "  </thead>\n",
       "  <tbody>\n",
       "    <tr>\n",
       "      <th>0</th>\n",
       "      <td>35</td>\n",
       "      <td>5</td>\n",
       "    </tr>\n",
       "    <tr>\n",
       "      <th>1</th>\n",
       "      <td>6</td>\n",
       "      <td>4</td>\n",
       "    </tr>\n",
       "  </tbody>\n",
       "</table>\n",
       "</div>"
      ],
      "text/plain": [
       "B   0  1\n",
       "A       \n",
       "0  35  5\n",
       "1   6  4"
      ]
     },
     "execution_count": 83,
     "metadata": {},
     "output_type": "execute_result"
    }
   ],
   "source": [
    "pd.pivot_table(data=pt, values='count', index=['A'], columns=['B'], aggfunc=np.size)    # pivot table"
   ]
  },
  {
   "cell_type": "code",
   "execution_count": 84,
   "id": "7168b1e6",
   "metadata": {},
   "outputs": [],
   "source": [
    "a = (6 + 4) / (6 + 4 + 5 + 35)       # probability of length >= 100 for op-1"
   ]
  },
  {
   "cell_type": "code",
   "execution_count": 86,
   "id": "92e030b0",
   "metadata": {},
   "outputs": [],
   "source": [
    "b= (5 + 4) / (6 + 4 + 5 + 35)        # probability of width >= 50 for op-1"
   ]
  },
  {
   "cell_type": "code",
   "execution_count": 87,
   "id": "3e307db1",
   "metadata": {},
   "outputs": [],
   "source": [
    "a_int_b = 4 / (6 + 4 + 5 + 35)       # probability of length >= 100 and width >= 50 for op-1"
   ]
  },
  {
   "cell_type": "code",
   "execution_count": 98,
   "id": "658c48f4",
   "metadata": {},
   "outputs": [],
   "source": [
    "p_a_hap_b = a_int_b / b             # probability of A happen when condition B happen"
   ]
  },
  {
   "cell_type": "code",
   "execution_count": 101,
   "id": "109be787",
   "metadata": {},
   "outputs": [
    {
     "data": {
      "text/plain": [
       "0.4444"
      ]
     },
     "execution_count": 101,
     "metadata": {},
     "output_type": "execute_result"
    }
   ],
   "source": [
    "np.round(p_a_hap_b, 4)"
   ]
  }
 ],
 "metadata": {
  "kernelspec": {
   "display_name": "Python 3 (ipykernel)",
   "language": "python",
   "name": "python3"
  },
  "language_info": {
   "codemirror_mode": {
    "name": "ipython",
    "version": 3
   },
   "file_extension": ".py",
   "mimetype": "text/x-python",
   "name": "python",
   "nbconvert_exporter": "python",
   "pygments_lexer": "ipython3",
   "version": "3.9.12"
  }
 },
 "nbformat": 4,
 "nbformat_minor": 5
}
