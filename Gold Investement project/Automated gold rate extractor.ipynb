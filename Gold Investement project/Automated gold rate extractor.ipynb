{
 "cells": [
  {
   "cell_type": "markdown",
   "id": "501bb32b",
   "metadata": {},
   "source": [
    "# Automated Gold rate tracker"
   ]
  },
  {
   "cell_type": "code",
   "execution_count": 1,
   "id": "af9f616a",
   "metadata": {},
   "outputs": [
    {
     "name": "stdout",
     "output_type": "stream",
     "text": [
      "Requirement already satisfied: schedule in c:\\users\\bhara\\anaconda3\\lib\\site-packages (1.2.0)\n"
     ]
    }
   ],
   "source": [
    "!pip install schedule"
   ]
  },
  {
   "cell_type": "code",
   "execution_count": 2,
   "id": "079ea9a1",
   "metadata": {},
   "outputs": [],
   "source": [
    "import schedule\n",
    "import time"
   ]
  },
  {
   "cell_type": "code",
   "execution_count": 3,
   "id": "de9b14b2",
   "metadata": {},
   "outputs": [
    {
     "ename": "KeyboardInterrupt",
     "evalue": "",
     "output_type": "error",
     "traceback": [
      "\u001b[1;31m---------------------------------------------------------------------------\u001b[0m",
      "\u001b[1;31mKeyboardInterrupt\u001b[0m                         Traceback (most recent call last)",
      "Cell \u001b[1;32mIn[3], line 42\u001b[0m\n\u001b[0;32m     40\u001b[0m \u001b[38;5;28;01mwhile\u001b[39;00m \u001b[38;5;28;01mTrue\u001b[39;00m:\n\u001b[0;32m     41\u001b[0m     schedule\u001b[38;5;241m.\u001b[39mrun_pending()\n\u001b[1;32m---> 42\u001b[0m     \u001b[43mtime\u001b[49m\u001b[38;5;241;43m.\u001b[39;49m\u001b[43msleep\u001b[49m\u001b[43m(\u001b[49m\u001b[38;5;241;43m1\u001b[39;49m\u001b[43m)\u001b[49m\n",
      "\u001b[1;31mKeyboardInterrupt\u001b[0m: "
     ]
    }
   ],
   "source": [
    "def gold_rate_extract():       # defining function\n",
    "    \n",
    "    import pandas as pd\n",
    "    import numpy as np\n",
    "    import requests\n",
    "    from bs4 import BeautifulSoup\n",
    "\n",
    "    df = pd.read_excel('C:\\\\UDEMY\\\\BUSINESS INTELLIGENCE ENGINEER\\\\Projects\\\\Gold Investement project\\\\Gold_Rate.xlsx')\n",
    "\n",
    "    df_latest_date = df['Date'][0].replace(' ','')\n",
    "\n",
    "    url = 'https://www.livechennai.com/saravana_jewellery_gold_rate.asp'   # extracting URL\n",
    "\n",
    "    r = requests.get(url)\n",
    "\n",
    "    soup = BeautifulSoup(r.text,'lxml')\n",
    "\n",
    "    table = soup.find('table', class_ = 'table-price1')       # extracting class of the table in URL\n",
    "\n",
    "    rows = table.find_all('tr')                               # extracting all table rows from the the table table-price1\n",
    "\n",
    "    row = rows[2]                                             # slicing the second index position to get the latest date & price\n",
    "\n",
    "    website_latest_date = row.select_one('td').text.strip()   # selecting only the latest date from URL as text\n",
    "\n",
    "    if df_latest_date == website_latest_date:                 # writing condition for date in df & URl\n",
    "        print ('latest date is same in df and website')\n",
    "    \n",
    "    else:\n",
    "        data = rows[2].find_all('td')                         # if new date is available in URL it is written to df at index 0\n",
    "        row = [tr.text.replace('\\n','').replace('\\r','') for tr in data]\n",
    "        df.loc[-1] = row\n",
    "        df.index = df.index + 1\n",
    "        df = df.sort_index()\n",
    "        df.to_excel('C:\\\\UDEMY\\\\BUSINESS INTELLIGENCE ENGINEER\\\\Projects\\\\Gold Investement project\\\\Gold_Rate.xlsx',index=False)\n",
    "        print ('new date is updated')\n",
    "    \n",
    "# setting time at 5:05PM to execute this query on daily basis\n",
    "\n",
    "daily_job = schedule.every().day.at(\"17:05\").do(gold_rate_extract).tag('gold_rate_extract')  \n",
    "\n",
    "while True:\n",
    "    schedule.run_pending()                                    # this keeps running this program continuously\n",
    "    time.sleep(1)"
   ]
  }
 ],
 "metadata": {
  "kernelspec": {
   "display_name": "Python 3 (ipykernel)",
   "language": "python",
   "name": "python3"
  },
  "language_info": {
   "codemirror_mode": {
    "name": "ipython",
    "version": 3
   },
   "file_extension": ".py",
   "mimetype": "text/x-python",
   "name": "python",
   "nbconvert_exporter": "python",
   "pygments_lexer": "ipython3",
   "version": "3.9.16"
  }
 },
 "nbformat": 4,
 "nbformat_minor": 5
}
