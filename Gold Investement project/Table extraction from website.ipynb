{
 "cells": [
  {
   "cell_type": "markdown",
   "id": "b0ac5e63",
   "metadata": {},
   "source": [
    "# Extracting table from a website"
   ]
  },
  {
   "cell_type": "code",
   "execution_count": 1,
   "id": "323913b1",
   "metadata": {},
   "outputs": [],
   "source": [
    "import requests\n",
    "from bs4 import BeautifulSoup\n",
    "import pandas as pd\n",
    "import datetime"
   ]
  },
  {
   "cell_type": "code",
   "execution_count": 72,
   "id": "c4d56b42",
   "metadata": {},
   "outputs": [
    {
     "name": "stdout",
     "output_type": "stream",
     "text": [
      "Empty DataFrame\n",
      "Columns: [Date, Standard Gold (22 K), Pure Gold (24 k)]\n",
      "Index: []\n"
     ]
    }
   ],
   "source": [
    "# checking the URL\n",
    "\n",
    "url = 'https://www.livechennai.com/saravana_jewellery_gold_rate.asp'\n",
    "r = requests.get(url)\n",
    "#print(r)\n",
    "\n",
    "soup = BeautifulSoup(r.text,'lxml')\n",
    "\n",
    "table = soup.find('table', class_ = 'table-price1')\n",
    "\n",
    "headers = table.find_all('td')\n",
    "\n",
    "#print(headers)\n",
    "\n",
    "titles = []\n",
    "\n",
    "# Slicing the headers and appending it as a column\n",
    "\n",
    "for i in headers[:3]:\n",
    "    \n",
    "    title = i.text\n",
    "    titles.append(title)\n",
    "    \n",
    "#  print(titles)\n",
    "\n",
    "# adding titles to a dataframe as column\n",
    "\n",
    "df = []\n",
    "\n",
    "df = pd.DataFrame(columns=titles)\n",
    "\n",
    "print(df)\n"
   ]
  },
  {
   "cell_type": "code",
   "execution_count": 73,
   "id": "98e4640d",
   "metadata": {},
   "outputs": [],
   "source": [
    "# Extracting all table row values from the table\n",
    "\n",
    "rows = table.find_all('tr')\n",
    "\n",
    "# slicing from the 2nd to get the actual values in rows\n",
    "\n",
    "for i in rows[2:]:\n",
    "    \n",
    "    data = i.find_all('td')\n",
    "    row = [tr.text.replace('\\n','').replace('\\r','') for tr in data]\n",
    "    #print(row)\n",
    "    \n",
    "    # creating condition to add each value in a new row\n",
    "    \n",
    "    l = len(df)\n",
    "    df.loc[l] = row\n",
    "    \n",
    "df.to_csv('C:\\\\UDEMY\\\\BUSINESS INTELLIGENCE ENGINEER\\\\Projects\\\\Gold Investement project\\\\Gold_Rate.csv')"
   ]
  }
 ],
 "metadata": {
  "kernelspec": {
   "display_name": "Python 3 (ipykernel)",
   "language": "python",
   "name": "python3"
  },
  "language_info": {
   "codemirror_mode": {
    "name": "ipython",
    "version": 3
   },
   "file_extension": ".py",
   "mimetype": "text/x-python",
   "name": "python",
   "nbconvert_exporter": "python",
   "pygments_lexer": "ipython3",
   "version": "3.9.12"
  }
 },
 "nbformat": 4,
 "nbformat_minor": 5
}
